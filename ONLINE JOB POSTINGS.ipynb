{
 "cells": [
  {
   "cell_type": "markdown",
   "metadata": {},
   "source": [
    "# CASE STUDY-TEXT MINING\n",
    "# ONLINE JOB POSTINGS"
   ]
  },
  {
   "cell_type": "code",
   "execution_count": 222,
   "metadata": {},
   "outputs": [
    {
     "name": "stderr",
     "output_type": "stream",
     "text": [
      "[nltk_data] Downloading package wordnet to\n",
      "[nltk_data]     C:\\Users\\anubh\\AppData\\Roaming\\nltk_data...\n",
      "[nltk_data]   Package wordnet is already up-to-date!\n"
     ]
    }
   ],
   "source": [
    "import pandas as pd\n",
    "import numpy as np\n",
    "import matplotlib.pyplot as plt\n",
    "import seaborn as sns\n",
    "import re\n",
    "import time\n",
    "import string\n",
    "import nltk\n",
    "from sklearn.model_selection import train_test_split\n",
    "from sklearn.feature_extraction.text import TfidfTransformer\n",
    "from sklearn.feature_extraction.text import TfidfVectorizer\n",
    "\n",
    "from sklearn.feature_extraction.text import CountVectorizer\n",
    "from sklearn.metrics import confusion_matrix\n",
    "from sklearn.naive_bayes import GaussianNB\n",
    "\n",
    "from sklearn.neighbors import KNeighborsClassifier\n",
    "from sklearn.ensemble import RandomForestClassifier\n",
    "#from  xgboost import XGBClassifier\n",
    "\n",
    "from sklearn.cluster import KMeans\n",
    "from apyori import apriori\n",
    "from sklearn.cluster import KMeans\n",
    "from sklearn import metrics\n",
    "from sklearn.model_selection import cross_val_score\n",
    "from sklearn.metrics import roc_auc_score\n",
    "from sklearn.metrics import accuracy_score\n",
    "from sklearn.metrics import classification_report\n",
    "from sklearn.metrics import silhouette_score\n",
    "from sklearn.model_selection import RandomizedSearchCV\n",
    "from sklearn import model_selection, preprocessing, linear_model, naive_bayes, metrics, svm, decomposition, ensemble\n",
    "from sklearn.linear_model import LogisticRegression\n",
    "\n",
    "\n",
    "from sklearn.metrics import roc_curve, auc\n",
    "from nltk.corpus import stopwords\n",
    "from nltk.stem import PorterStemmer\n",
    "from nltk.stem.wordnet import WordNetLemmatizer\n",
    "from nltk.stem import WordNetLemmatizer\n",
    "import nltk\n",
    "nltk.download('wordnet')\n",
    "from bs4 import BeautifulSoup\n",
    "\n",
    "from gensim.models import Word2Vec\n",
    "from gensim.models import KeyedVectors\n",
    "\n",
    "import pickle\n",
    "\n",
    "from tqdm import tqdm\n",
    "import os\n",
    "\n",
    "# Importing Gensim\n",
    "import gensim\n",
    "from gensim import corpora\n",
    "\n",
    "from textblob import Word"
   ]
  },
  {
   "cell_type": "markdown",
   "metadata": {},
   "source": [
    "#### Importing Data"
   ]
  },
  {
   "cell_type": "code",
   "execution_count": 182,
   "metadata": {},
   "outputs": [],
   "source": [
    "job=pd.read_csv('data job posts.csv')"
   ]
  },
  {
   "cell_type": "code",
   "execution_count": 183,
   "metadata": {},
   "outputs": [
    {
     "data": {
      "text/html": [
       "<div>\n",
       "<style scoped>\n",
       "    .dataframe tbody tr th:only-of-type {\n",
       "        vertical-align: middle;\n",
       "    }\n",
       "\n",
       "    .dataframe tbody tr th {\n",
       "        vertical-align: top;\n",
       "    }\n",
       "\n",
       "    .dataframe thead th {\n",
       "        text-align: right;\n",
       "    }\n",
       "</style>\n",
       "<table border=\"1\" class=\"dataframe\">\n",
       "  <thead>\n",
       "    <tr style=\"text-align: right;\">\n",
       "      <th></th>\n",
       "      <th>jobpost</th>\n",
       "      <th>date</th>\n",
       "      <th>Title</th>\n",
       "      <th>Company</th>\n",
       "      <th>AnnouncementCode</th>\n",
       "      <th>Term</th>\n",
       "      <th>Eligibility</th>\n",
       "      <th>Audience</th>\n",
       "      <th>StartDate</th>\n",
       "      <th>Duration</th>\n",
       "      <th>...</th>\n",
       "      <th>Salary</th>\n",
       "      <th>ApplicationP</th>\n",
       "      <th>OpeningDate</th>\n",
       "      <th>Deadline</th>\n",
       "      <th>Notes</th>\n",
       "      <th>AboutC</th>\n",
       "      <th>Attach</th>\n",
       "      <th>Year</th>\n",
       "      <th>Month</th>\n",
       "      <th>IT</th>\n",
       "    </tr>\n",
       "  </thead>\n",
       "  <tbody>\n",
       "    <tr>\n",
       "      <th>0</th>\n",
       "      <td>AMERIA Investment Consulting Company\\nJOB TITL...</td>\n",
       "      <td>Jan 5, 2004</td>\n",
       "      <td>Chief Financial Officer</td>\n",
       "      <td>AMERIA Investment Consulting Company</td>\n",
       "      <td>NaN</td>\n",
       "      <td>NaN</td>\n",
       "      <td>NaN</td>\n",
       "      <td>NaN</td>\n",
       "      <td>NaN</td>\n",
       "      <td>NaN</td>\n",
       "      <td>...</td>\n",
       "      <td>NaN</td>\n",
       "      <td>To apply for this position, please submit a\\nc...</td>\n",
       "      <td>NaN</td>\n",
       "      <td>26 January 2004</td>\n",
       "      <td>NaN</td>\n",
       "      <td>NaN</td>\n",
       "      <td>NaN</td>\n",
       "      <td>2004</td>\n",
       "      <td>1</td>\n",
       "      <td>False</td>\n",
       "    </tr>\n",
       "    <tr>\n",
       "      <th>1</th>\n",
       "      <td>International Research &amp; Exchanges Board (IREX...</td>\n",
       "      <td>Jan 7, 2004</td>\n",
       "      <td>Full-time Community Connections Intern (paid i...</td>\n",
       "      <td>International Research &amp; Exchanges Board (IREX)</td>\n",
       "      <td>NaN</td>\n",
       "      <td>NaN</td>\n",
       "      <td>NaN</td>\n",
       "      <td>NaN</td>\n",
       "      <td>NaN</td>\n",
       "      <td>3 months</td>\n",
       "      <td>...</td>\n",
       "      <td>NaN</td>\n",
       "      <td>Please submit a cover letter and resume to:\\nI...</td>\n",
       "      <td>NaN</td>\n",
       "      <td>12 January 2004</td>\n",
       "      <td>NaN</td>\n",
       "      <td>The International Research &amp; Exchanges Board (...</td>\n",
       "      <td>NaN</td>\n",
       "      <td>2004</td>\n",
       "      <td>1</td>\n",
       "      <td>False</td>\n",
       "    </tr>\n",
       "    <tr>\n",
       "      <th>2</th>\n",
       "      <td>Caucasus Environmental NGO Network (CENN)\\nJOB...</td>\n",
       "      <td>Jan 7, 2004</td>\n",
       "      <td>Country Coordinator</td>\n",
       "      <td>Caucasus Environmental NGO Network (CENN)</td>\n",
       "      <td>NaN</td>\n",
       "      <td>NaN</td>\n",
       "      <td>NaN</td>\n",
       "      <td>NaN</td>\n",
       "      <td>NaN</td>\n",
       "      <td>Renewable annual contract\\nPOSITION</td>\n",
       "      <td>...</td>\n",
       "      <td>NaN</td>\n",
       "      <td>Please send resume or CV toursula.kazarian@......</td>\n",
       "      <td>NaN</td>\n",
       "      <td>20 January 2004\\nSTART DATE:  February 2004</td>\n",
       "      <td>NaN</td>\n",
       "      <td>The Caucasus Environmental NGO Network is a\\nn...</td>\n",
       "      <td>NaN</td>\n",
       "      <td>2004</td>\n",
       "      <td>1</td>\n",
       "      <td>False</td>\n",
       "    </tr>\n",
       "    <tr>\n",
       "      <th>3</th>\n",
       "      <td>Manoff Group\\nJOB TITLE:  BCC Specialist\\nPOSI...</td>\n",
       "      <td>Jan 7, 2004</td>\n",
       "      <td>BCC Specialist</td>\n",
       "      <td>Manoff Group</td>\n",
       "      <td>NaN</td>\n",
       "      <td>NaN</td>\n",
       "      <td>NaN</td>\n",
       "      <td>NaN</td>\n",
       "      <td>NaN</td>\n",
       "      <td>NaN</td>\n",
       "      <td>...</td>\n",
       "      <td>NaN</td>\n",
       "      <td>Please send cover letter and resume to Amy\\nPe...</td>\n",
       "      <td>NaN</td>\n",
       "      <td>23 January 2004\\nSTART DATE:  Immediate</td>\n",
       "      <td>NaN</td>\n",
       "      <td>NaN</td>\n",
       "      <td>NaN</td>\n",
       "      <td>2004</td>\n",
       "      <td>1</td>\n",
       "      <td>False</td>\n",
       "    </tr>\n",
       "    <tr>\n",
       "      <th>4</th>\n",
       "      <td>Yerevan Brandy Company\\nJOB TITLE:  Software D...</td>\n",
       "      <td>Jan 10, 2004</td>\n",
       "      <td>Software Developer</td>\n",
       "      <td>Yerevan Brandy Company</td>\n",
       "      <td>NaN</td>\n",
       "      <td>NaN</td>\n",
       "      <td>NaN</td>\n",
       "      <td>NaN</td>\n",
       "      <td>NaN</td>\n",
       "      <td>NaN</td>\n",
       "      <td>...</td>\n",
       "      <td>NaN</td>\n",
       "      <td>Successful candidates should submit\\n- CV; \\n-...</td>\n",
       "      <td>NaN</td>\n",
       "      <td>20 January 2004, 18:00</td>\n",
       "      <td>NaN</td>\n",
       "      <td>NaN</td>\n",
       "      <td>NaN</td>\n",
       "      <td>2004</td>\n",
       "      <td>1</td>\n",
       "      <td>True</td>\n",
       "    </tr>\n",
       "    <tr>\n",
       "      <th>...</th>\n",
       "      <td>...</td>\n",
       "      <td>...</td>\n",
       "      <td>...</td>\n",
       "      <td>...</td>\n",
       "      <td>...</td>\n",
       "      <td>...</td>\n",
       "      <td>...</td>\n",
       "      <td>...</td>\n",
       "      <td>...</td>\n",
       "      <td>...</td>\n",
       "      <td>...</td>\n",
       "      <td>...</td>\n",
       "      <td>...</td>\n",
       "      <td>...</td>\n",
       "      <td>...</td>\n",
       "      <td>...</td>\n",
       "      <td>...</td>\n",
       "      <td>...</td>\n",
       "      <td>...</td>\n",
       "      <td>...</td>\n",
       "      <td>...</td>\n",
       "    </tr>\n",
       "    <tr>\n",
       "      <th>18996</th>\n",
       "      <td>Technolinguistics NGO\\n\\n\\nTITLE:  Senior Crea...</td>\n",
       "      <td>Dec 28, 2015</td>\n",
       "      <td>Senior Creative UX/ UI Designer</td>\n",
       "      <td>Technolinguistics NGO</td>\n",
       "      <td>NaN</td>\n",
       "      <td>Full-time</td>\n",
       "      <td>NaN</td>\n",
       "      <td>NaN</td>\n",
       "      <td>NaN</td>\n",
       "      <td>Long-term</td>\n",
       "      <td>...</td>\n",
       "      <td>Competitive</td>\n",
       "      <td>To apply for this position, please send your\\n...</td>\n",
       "      <td>29 December 2015</td>\n",
       "      <td>28 January 2016</td>\n",
       "      <td>NaN</td>\n",
       "      <td>As a company Technolinguistics has a mandate t...</td>\n",
       "      <td>NaN</td>\n",
       "      <td>2015</td>\n",
       "      <td>12</td>\n",
       "      <td>False</td>\n",
       "    </tr>\n",
       "    <tr>\n",
       "      <th>18997</th>\n",
       "      <td>\"Coca-Cola Hellenic Bottling Company Armenia\" ...</td>\n",
       "      <td>Dec 30, 2015</td>\n",
       "      <td>Category Development Manager</td>\n",
       "      <td>\"Coca-Cola Hellenic Bottling Company Armenia\" ...</td>\n",
       "      <td>NaN</td>\n",
       "      <td>Full-time</td>\n",
       "      <td>All interested professionals.</td>\n",
       "      <td>NaN</td>\n",
       "      <td>ASAP</td>\n",
       "      <td>Long-term with a probation period of 3 months.</td>\n",
       "      <td>...</td>\n",
       "      <td>NaN</td>\n",
       "      <td>All interested candidates are kindly requested...</td>\n",
       "      <td>30 December 2015</td>\n",
       "      <td>20 January 2016</td>\n",
       "      <td>NaN</td>\n",
       "      <td>NaN</td>\n",
       "      <td>NaN</td>\n",
       "      <td>2015</td>\n",
       "      <td>12</td>\n",
       "      <td>False</td>\n",
       "    </tr>\n",
       "    <tr>\n",
       "      <th>18998</th>\n",
       "      <td>\"Coca-Cola Hellenic Bottling Company Armenia\" ...</td>\n",
       "      <td>Dec 30, 2015</td>\n",
       "      <td>Operational Marketing Manager</td>\n",
       "      <td>\"Coca-Cola Hellenic Bottling Company Armenia\" ...</td>\n",
       "      <td>NaN</td>\n",
       "      <td>Full-time</td>\n",
       "      <td>All interested professionals.</td>\n",
       "      <td>NaN</td>\n",
       "      <td>ASAP</td>\n",
       "      <td>Long-term with a probation period of 3 months.</td>\n",
       "      <td>...</td>\n",
       "      <td>NaN</td>\n",
       "      <td>All interested candidates are kindly requested...</td>\n",
       "      <td>30 December 2015</td>\n",
       "      <td>20 January 2016</td>\n",
       "      <td>NaN</td>\n",
       "      <td>NaN</td>\n",
       "      <td>NaN</td>\n",
       "      <td>2015</td>\n",
       "      <td>12</td>\n",
       "      <td>False</td>\n",
       "    </tr>\n",
       "    <tr>\n",
       "      <th>18999</th>\n",
       "      <td>San Lazzaro   LLC\\n\\n\\nTITLE:  Head of Online ...</td>\n",
       "      <td>Dec 30, 2015</td>\n",
       "      <td>Head of Online Sales Department</td>\n",
       "      <td>San Lazzaro   LLC</td>\n",
       "      <td>NaN</td>\n",
       "      <td>NaN</td>\n",
       "      <td>NaN</td>\n",
       "      <td>NaN</td>\n",
       "      <td>NaN</td>\n",
       "      <td>Long-term</td>\n",
       "      <td>...</td>\n",
       "      <td>Highly competitive</td>\n",
       "      <td>Interested candidates can send their CVs to:\\n...</td>\n",
       "      <td>30 December 2015</td>\n",
       "      <td>29 January 2016</td>\n",
       "      <td>NaN</td>\n",
       "      <td>San Lazzaro LLC works with several internation...</td>\n",
       "      <td>NaN</td>\n",
       "      <td>2015</td>\n",
       "      <td>12</td>\n",
       "      <td>False</td>\n",
       "    </tr>\n",
       "    <tr>\n",
       "      <th>19000</th>\n",
       "      <td>\"Kamurj\" UCO CJSC\\n\\n\\nTITLE:  Lawyer in Legal...</td>\n",
       "      <td>Dec 30, 2015</td>\n",
       "      <td>Lawyer in Legal Department</td>\n",
       "      <td>\"Kamurj\" UCO CJSC</td>\n",
       "      <td>NaN</td>\n",
       "      <td>Full-time</td>\n",
       "      <td>NaN</td>\n",
       "      <td>NaN</td>\n",
       "      <td>NaN</td>\n",
       "      <td>Indefinite</td>\n",
       "      <td>...</td>\n",
       "      <td>NaN</td>\n",
       "      <td>All qualified applicants are encouraged to\\nsu...</td>\n",
       "      <td>30 December 2015</td>\n",
       "      <td>20 January 2016</td>\n",
       "      <td>NaN</td>\n",
       "      <td>\"Kamurj\" UCO CJSC is providing micro and small...</td>\n",
       "      <td>NaN</td>\n",
       "      <td>2015</td>\n",
       "      <td>12</td>\n",
       "      <td>False</td>\n",
       "    </tr>\n",
       "  </tbody>\n",
       "</table>\n",
       "<p>19001 rows × 24 columns</p>\n",
       "</div>"
      ],
      "text/plain": [
       "                                                 jobpost          date  \\\n",
       "0      AMERIA Investment Consulting Company\\nJOB TITL...   Jan 5, 2004   \n",
       "1      International Research & Exchanges Board (IREX...   Jan 7, 2004   \n",
       "2      Caucasus Environmental NGO Network (CENN)\\nJOB...   Jan 7, 2004   \n",
       "3      Manoff Group\\nJOB TITLE:  BCC Specialist\\nPOSI...   Jan 7, 2004   \n",
       "4      Yerevan Brandy Company\\nJOB TITLE:  Software D...  Jan 10, 2004   \n",
       "...                                                  ...           ...   \n",
       "18996  Technolinguistics NGO\\n\\n\\nTITLE:  Senior Crea...  Dec 28, 2015   \n",
       "18997  \"Coca-Cola Hellenic Bottling Company Armenia\" ...  Dec 30, 2015   \n",
       "18998  \"Coca-Cola Hellenic Bottling Company Armenia\" ...  Dec 30, 2015   \n",
       "18999  San Lazzaro   LLC\\n\\n\\nTITLE:  Head of Online ...  Dec 30, 2015   \n",
       "19000  \"Kamurj\" UCO CJSC\\n\\n\\nTITLE:  Lawyer in Legal...  Dec 30, 2015   \n",
       "\n",
       "                                                   Title  \\\n",
       "0                                Chief Financial Officer   \n",
       "1      Full-time Community Connections Intern (paid i...   \n",
       "2                                    Country Coordinator   \n",
       "3                                         BCC Specialist   \n",
       "4                                     Software Developer   \n",
       "...                                                  ...   \n",
       "18996                    Senior Creative UX/ UI Designer   \n",
       "18997                       Category Development Manager   \n",
       "18998                      Operational Marketing Manager   \n",
       "18999                    Head of Online Sales Department   \n",
       "19000                         Lawyer in Legal Department   \n",
       "\n",
       "                                                 Company AnnouncementCode  \\\n",
       "0                   AMERIA Investment Consulting Company              NaN   \n",
       "1        International Research & Exchanges Board (IREX)              NaN   \n",
       "2              Caucasus Environmental NGO Network (CENN)              NaN   \n",
       "3                                           Manoff Group              NaN   \n",
       "4                                 Yerevan Brandy Company              NaN   \n",
       "...                                                  ...              ...   \n",
       "18996                              Technolinguistics NGO              NaN   \n",
       "18997  \"Coca-Cola Hellenic Bottling Company Armenia\" ...              NaN   \n",
       "18998  \"Coca-Cola Hellenic Bottling Company Armenia\" ...              NaN   \n",
       "18999                                  San Lazzaro   LLC              NaN   \n",
       "19000                                  \"Kamurj\" UCO CJSC              NaN   \n",
       "\n",
       "            Term                    Eligibility Audience StartDate  \\\n",
       "0            NaN                            NaN      NaN       NaN   \n",
       "1            NaN                            NaN      NaN       NaN   \n",
       "2            NaN                            NaN      NaN       NaN   \n",
       "3            NaN                            NaN      NaN       NaN   \n",
       "4            NaN                            NaN      NaN       NaN   \n",
       "...          ...                            ...      ...       ...   \n",
       "18996  Full-time                            NaN      NaN       NaN   \n",
       "18997  Full-time  All interested professionals.      NaN      ASAP   \n",
       "18998  Full-time  All interested professionals.      NaN      ASAP   \n",
       "18999        NaN                            NaN      NaN       NaN   \n",
       "19000  Full-time                            NaN      NaN       NaN   \n",
       "\n",
       "                                             Duration  ...  \\\n",
       "0                                                 NaN  ...   \n",
       "1                                            3 months  ...   \n",
       "2                 Renewable annual contract\\nPOSITION  ...   \n",
       "3                                                 NaN  ...   \n",
       "4                                                 NaN  ...   \n",
       "...                                               ...  ...   \n",
       "18996                                       Long-term  ...   \n",
       "18997  Long-term with a probation period of 3 months.  ...   \n",
       "18998  Long-term with a probation period of 3 months.  ...   \n",
       "18999                                       Long-term  ...   \n",
       "19000                                      Indefinite  ...   \n",
       "\n",
       "                   Salary                                       ApplicationP  \\\n",
       "0                     NaN  To apply for this position, please submit a\\nc...   \n",
       "1                     NaN  Please submit a cover letter and resume to:\\nI...   \n",
       "2                     NaN  Please send resume or CV toursula.kazarian@......   \n",
       "3                     NaN  Please send cover letter and resume to Amy\\nPe...   \n",
       "4                     NaN  Successful candidates should submit\\n- CV; \\n-...   \n",
       "...                   ...                                                ...   \n",
       "18996         Competitive  To apply for this position, please send your\\n...   \n",
       "18997                 NaN  All interested candidates are kindly requested...   \n",
       "18998                 NaN  All interested candidates are kindly requested...   \n",
       "18999  Highly competitive  Interested candidates can send their CVs to:\\n...   \n",
       "19000                 NaN  All qualified applicants are encouraged to\\nsu...   \n",
       "\n",
       "            OpeningDate                                     Deadline Notes  \\\n",
       "0                   NaN                              26 January 2004   NaN   \n",
       "1                   NaN                              12 January 2004   NaN   \n",
       "2                   NaN  20 January 2004\\nSTART DATE:  February 2004   NaN   \n",
       "3                   NaN      23 January 2004\\nSTART DATE:  Immediate   NaN   \n",
       "4                   NaN                       20 January 2004, 18:00   NaN   \n",
       "...                 ...                                          ...   ...   \n",
       "18996  29 December 2015                              28 January 2016   NaN   \n",
       "18997  30 December 2015                              20 January 2016   NaN   \n",
       "18998  30 December 2015                              20 January 2016   NaN   \n",
       "18999  30 December 2015                              29 January 2016   NaN   \n",
       "19000  30 December 2015                              20 January 2016   NaN   \n",
       "\n",
       "                                                  AboutC Attach  Year Month  \\\n",
       "0                                                    NaN    NaN  2004     1   \n",
       "1      The International Research & Exchanges Board (...    NaN  2004     1   \n",
       "2      The Caucasus Environmental NGO Network is a\\nn...    NaN  2004     1   \n",
       "3                                                    NaN    NaN  2004     1   \n",
       "4                                                    NaN    NaN  2004     1   \n",
       "...                                                  ...    ...   ...   ...   \n",
       "18996  As a company Technolinguistics has a mandate t...    NaN  2015    12   \n",
       "18997                                                NaN    NaN  2015    12   \n",
       "18998                                                NaN    NaN  2015    12   \n",
       "18999  San Lazzaro LLC works with several internation...    NaN  2015    12   \n",
       "19000  \"Kamurj\" UCO CJSC is providing micro and small...    NaN  2015    12   \n",
       "\n",
       "          IT  \n",
       "0      False  \n",
       "1      False  \n",
       "2      False  \n",
       "3      False  \n",
       "4       True  \n",
       "...      ...  \n",
       "18996  False  \n",
       "18997  False  \n",
       "18998  False  \n",
       "18999  False  \n",
       "19000  False  \n",
       "\n",
       "[19001 rows x 24 columns]"
      ]
     },
     "execution_count": 183,
     "metadata": {},
     "output_type": "execute_result"
    }
   ],
   "source": [
    "job"
   ]
  },
  {
   "cell_type": "code",
   "execution_count": 184,
   "metadata": {},
   "outputs": [],
   "source": [
    "*,"
   ]
  },
  {
   "cell_type": "code",
   "execution_count": 185,
   "metadata": {},
   "outputs": [
    {
     "data": {
      "text/html": [
       "<div>\n",
       "<style scoped>\n",
       "    .dataframe tbody tr th:only-of-type {\n",
       "        vertical-align: middle;\n",
       "    }\n",
       "\n",
       "    .dataframe tbody tr th {\n",
       "        vertical-align: top;\n",
       "    }\n",
       "\n",
       "    .dataframe thead th {\n",
       "        text-align: right;\n",
       "    }\n",
       "</style>\n",
       "<table border=\"1\" class=\"dataframe\">\n",
       "  <thead>\n",
       "    <tr style=\"text-align: right;\">\n",
       "      <th></th>\n",
       "      <th>Year</th>\n",
       "      <th>Title</th>\n",
       "      <th>RequiredQual</th>\n",
       "      <th>jobpost</th>\n",
       "      <th>Company</th>\n",
       "    </tr>\n",
       "  </thead>\n",
       "  <tbody>\n",
       "    <tr>\n",
       "      <th>0</th>\n",
       "      <td>2004</td>\n",
       "      <td>Chief Financial Officer</td>\n",
       "      <td>To perform this job successfully, an\\nindividu...</td>\n",
       "      <td>AMERIA Investment Consulting Company\\nJOB TITL...</td>\n",
       "      <td>AMERIA Investment Consulting Company</td>\n",
       "    </tr>\n",
       "    <tr>\n",
       "      <th>1</th>\n",
       "      <td>2004</td>\n",
       "      <td>Full-time Community Connections Intern (paid i...</td>\n",
       "      <td>- Bachelor's Degree; Master's is preferred;\\n-...</td>\n",
       "      <td>International Research &amp; Exchanges Board (IREX...</td>\n",
       "      <td>International Research &amp; Exchanges Board (IREX)</td>\n",
       "    </tr>\n",
       "    <tr>\n",
       "      <th>2</th>\n",
       "      <td>2004</td>\n",
       "      <td>Country Coordinator</td>\n",
       "      <td>- Degree in environmentally related field, or ...</td>\n",
       "      <td>Caucasus Environmental NGO Network (CENN)\\nJOB...</td>\n",
       "      <td>Caucasus Environmental NGO Network (CENN)</td>\n",
       "    </tr>\n",
       "    <tr>\n",
       "      <th>3</th>\n",
       "      <td>2004</td>\n",
       "      <td>BCC Specialist</td>\n",
       "      <td>- Advanced degree in public health, social sci...</td>\n",
       "      <td>Manoff Group\\nJOB TITLE:  BCC Specialist\\nPOSI...</td>\n",
       "      <td>Manoff Group</td>\n",
       "    </tr>\n",
       "    <tr>\n",
       "      <th>4</th>\n",
       "      <td>2004</td>\n",
       "      <td>Software Developer</td>\n",
       "      <td>- University degree; economical background is ...</td>\n",
       "      <td>Yerevan Brandy Company\\nJOB TITLE:  Software D...</td>\n",
       "      <td>Yerevan Brandy Company</td>\n",
       "    </tr>\n",
       "    <tr>\n",
       "      <th>...</th>\n",
       "      <td>...</td>\n",
       "      <td>...</td>\n",
       "      <td>...</td>\n",
       "      <td>...</td>\n",
       "      <td>...</td>\n",
       "    </tr>\n",
       "    <tr>\n",
       "      <th>18996</th>\n",
       "      <td>2015</td>\n",
       "      <td>Senior Creative UX/ UI Designer</td>\n",
       "      <td>- At least 5 years of experience in Interface/...</td>\n",
       "      <td>Technolinguistics NGO\\n\\n\\nTITLE:  Senior Crea...</td>\n",
       "      <td>Technolinguistics NGO</td>\n",
       "    </tr>\n",
       "    <tr>\n",
       "      <th>18997</th>\n",
       "      <td>2015</td>\n",
       "      <td>Category Development Manager</td>\n",
       "      <td>- University degree, ideally business related;...</td>\n",
       "      <td>\"Coca-Cola Hellenic Bottling Company Armenia\" ...</td>\n",
       "      <td>\"Coca-Cola Hellenic Bottling Company Armenia\" ...</td>\n",
       "    </tr>\n",
       "    <tr>\n",
       "      <th>18998</th>\n",
       "      <td>2015</td>\n",
       "      <td>Operational Marketing Manager</td>\n",
       "      <td>- Degree in Business, Marketing or a related f...</td>\n",
       "      <td>\"Coca-Cola Hellenic Bottling Company Armenia\" ...</td>\n",
       "      <td>\"Coca-Cola Hellenic Bottling Company Armenia\" ...</td>\n",
       "    </tr>\n",
       "    <tr>\n",
       "      <th>18999</th>\n",
       "      <td>2015</td>\n",
       "      <td>Head of Online Sales Department</td>\n",
       "      <td>- At least 1 year of experience in online sale...</td>\n",
       "      <td>San Lazzaro   LLC\\n\\n\\nTITLE:  Head of Online ...</td>\n",
       "      <td>San Lazzaro   LLC</td>\n",
       "    </tr>\n",
       "    <tr>\n",
       "      <th>19000</th>\n",
       "      <td>2015</td>\n",
       "      <td>Lawyer in Legal Department</td>\n",
       "      <td>- Higher legal education; Master's degree is a...</td>\n",
       "      <td>\"Kamurj\" UCO CJSC\\n\\n\\nTITLE:  Lawyer in Legal...</td>\n",
       "      <td>\"Kamurj\" UCO CJSC</td>\n",
       "    </tr>\n",
       "  </tbody>\n",
       "</table>\n",
       "<p>19001 rows × 5 columns</p>\n",
       "</div>"
      ],
      "text/plain": [
       "       Year                                              Title  \\\n",
       "0      2004                            Chief Financial Officer   \n",
       "1      2004  Full-time Community Connections Intern (paid i...   \n",
       "2      2004                                Country Coordinator   \n",
       "3      2004                                     BCC Specialist   \n",
       "4      2004                                 Software Developer   \n",
       "...     ...                                                ...   \n",
       "18996  2015                    Senior Creative UX/ UI Designer   \n",
       "18997  2015                       Category Development Manager   \n",
       "18998  2015                      Operational Marketing Manager   \n",
       "18999  2015                    Head of Online Sales Department   \n",
       "19000  2015                         Lawyer in Legal Department   \n",
       "\n",
       "                                            RequiredQual  \\\n",
       "0      To perform this job successfully, an\\nindividu...   \n",
       "1      - Bachelor's Degree; Master's is preferred;\\n-...   \n",
       "2      - Degree in environmentally related field, or ...   \n",
       "3      - Advanced degree in public health, social sci...   \n",
       "4      - University degree; economical background is ...   \n",
       "...                                                  ...   \n",
       "18996  - At least 5 years of experience in Interface/...   \n",
       "18997  - University degree, ideally business related;...   \n",
       "18998  - Degree in Business, Marketing or a related f...   \n",
       "18999  - At least 1 year of experience in online sale...   \n",
       "19000  - Higher legal education; Master's degree is a...   \n",
       "\n",
       "                                                 jobpost  \\\n",
       "0      AMERIA Investment Consulting Company\\nJOB TITL...   \n",
       "1      International Research & Exchanges Board (IREX...   \n",
       "2      Caucasus Environmental NGO Network (CENN)\\nJOB...   \n",
       "3      Manoff Group\\nJOB TITLE:  BCC Specialist\\nPOSI...   \n",
       "4      Yerevan Brandy Company\\nJOB TITLE:  Software D...   \n",
       "...                                                  ...   \n",
       "18996  Technolinguistics NGO\\n\\n\\nTITLE:  Senior Crea...   \n",
       "18997  \"Coca-Cola Hellenic Bottling Company Armenia\" ...   \n",
       "18998  \"Coca-Cola Hellenic Bottling Company Armenia\" ...   \n",
       "18999  San Lazzaro   LLC\\n\\n\\nTITLE:  Head of Online ...   \n",
       "19000  \"Kamurj\" UCO CJSC\\n\\n\\nTITLE:  Lawyer in Legal...   \n",
       "\n",
       "                                                 Company  \n",
       "0                   AMERIA Investment Consulting Company  \n",
       "1        International Research & Exchanges Board (IREX)  \n",
       "2              Caucasus Environmental NGO Network (CENN)  \n",
       "3                                           Manoff Group  \n",
       "4                                 Yerevan Brandy Company  \n",
       "...                                                  ...  \n",
       "18996                              Technolinguistics NGO  \n",
       "18997  \"Coca-Cola Hellenic Bottling Company Armenia\" ...  \n",
       "18998  \"Coca-Cola Hellenic Bottling Company Armenia\" ...  \n",
       "18999                                  San Lazzaro   LLC  \n",
       "19000                                  \"Kamurj\" UCO CJSC  \n",
       "\n",
       "[19001 rows x 5 columns]"
      ]
     },
     "execution_count": 185,
     "metadata": {},
     "output_type": "execute_result"
    }
   ],
   "source": [
    "job_trend"
   ]
  },
  {
   "cell_type": "markdown",
   "metadata": {},
   "source": [
    "## Data Processing"
   ]
  },
  {
   "cell_type": "markdown",
   "metadata": {},
   "source": [
    "### Creating user defined functions for clean the text and pre-process the data"
   ]
  },
  {
   "cell_type": "code",
   "execution_count": 186,
   "metadata": {},
   "outputs": [],
   "source": [
    "#Abbrevations and Words correction\n",
    "def clean_text(text):\n",
    "    text = text.lower()\n",
    "    text = text.strip()\n",
    "    text = re.sub(r' +', ' ', text)\n",
    "    text = re.sub(r\"[-()\\\"#/@;:{}`+=~|.!?,'0-9]\", \"\", text)\n",
    "    return(text)"
   ]
  },
  {
   "cell_type": "code",
   "execution_count": 190,
   "metadata": {},
   "outputs": [
    {
     "name": "stderr",
     "output_type": "stream",
     "text": [
      "C:\\Users\\anubh\\anaconda3\\lib\\site-packages\\ipykernel_launcher.py:1: SettingWithCopyWarning: \n",
      "A value is trying to be set on a copy of a slice from a DataFrame.\n",
      "Try using .loc[row_indexer,col_indexer] = value instead\n",
      "\n",
      "See the caveats in the documentation: https://pandas.pydata.org/pandas-docs/stable/user_guide/indexing.html#returning-a-view-versus-a-copy\n",
      "  \"\"\"Entry point for launching an IPython kernel.\n",
      "C:\\Users\\anubh\\anaconda3\\lib\\site-packages\\ipykernel_launcher.py:2: SettingWithCopyWarning: \n",
      "A value is trying to be set on a copy of a slice from a DataFrame.\n",
      "Try using .loc[row_indexer,col_indexer] = value instead\n",
      "\n",
      "See the caveats in the documentation: https://pandas.pydata.org/pandas-docs/stable/user_guide/indexing.html#returning-a-view-versus-a-copy\n",
      "  \n"
     ]
    }
   ],
   "source": [
    "job_trend['Title']=job_trend['Title'].astype('str')\n",
    "job_trend['Title'] = job_trend['Title'].apply(clean_text)\n"
   ]
  },
  {
   "cell_type": "code",
   "execution_count": 191,
   "metadata": {},
   "outputs": [
    {
     "name": "stderr",
     "output_type": "stream",
     "text": [
      "C:\\Users\\anubh\\anaconda3\\lib\\site-packages\\ipykernel_launcher.py:1: SettingWithCopyWarning: \n",
      "A value is trying to be set on a copy of a slice from a DataFrame.\n",
      "Try using .loc[row_indexer,col_indexer] = value instead\n",
      "\n",
      "See the caveats in the documentation: https://pandas.pydata.org/pandas-docs/stable/user_guide/indexing.html#returning-a-view-versus-a-copy\n",
      "  \"\"\"Entry point for launching an IPython kernel.\n",
      "C:\\Users\\anubh\\anaconda3\\lib\\site-packages\\ipykernel_launcher.py:2: SettingWithCopyWarning: \n",
      "A value is trying to be set on a copy of a slice from a DataFrame.\n",
      "Try using .loc[row_indexer,col_indexer] = value instead\n",
      "\n",
      "See the caveats in the documentation: https://pandas.pydata.org/pandas-docs/stable/user_guide/indexing.html#returning-a-view-versus-a-copy\n",
      "  \n"
     ]
    }
   ],
   "source": [
    "job_trend['RequiredQual']=job_trend['RequiredQual'].astype('str')\n",
    "job_trend['RequiredQual'] = job_trend['RequiredQual'].apply(clean_text)"
   ]
  },
  {
   "cell_type": "code",
   "execution_count": 192,
   "metadata": {},
   "outputs": [
    {
     "name": "stderr",
     "output_type": "stream",
     "text": [
      "C:\\Users\\anubh\\anaconda3\\lib\\site-packages\\ipykernel_launcher.py:1: SettingWithCopyWarning: \n",
      "A value is trying to be set on a copy of a slice from a DataFrame.\n",
      "Try using .loc[row_indexer,col_indexer] = value instead\n",
      "\n",
      "See the caveats in the documentation: https://pandas.pydata.org/pandas-docs/stable/user_guide/indexing.html#returning-a-view-versus-a-copy\n",
      "  \"\"\"Entry point for launching an IPython kernel.\n",
      "C:\\Users\\anubh\\anaconda3\\lib\\site-packages\\ipykernel_launcher.py:2: SettingWithCopyWarning: \n",
      "A value is trying to be set on a copy of a slice from a DataFrame.\n",
      "Try using .loc[row_indexer,col_indexer] = value instead\n",
      "\n",
      "See the caveats in the documentation: https://pandas.pydata.org/pandas-docs/stable/user_guide/indexing.html#returning-a-view-versus-a-copy\n",
      "  \n"
     ]
    }
   ],
   "source": [
    "job_trend['jobpost']=job_trend['jobpost'].astype('str')\n",
    "job_trend['jobpost'] = job_trend['jobpost'].apply(clean_text)"
   ]
  },
  {
   "cell_type": "code",
   "execution_count": 193,
   "metadata": {},
   "outputs": [
    {
     "name": "stderr",
     "output_type": "stream",
     "text": [
      "C:\\Users\\anubh\\anaconda3\\lib\\site-packages\\ipykernel_launcher.py:1: SettingWithCopyWarning: \n",
      "A value is trying to be set on a copy of a slice from a DataFrame.\n",
      "Try using .loc[row_indexer,col_indexer] = value instead\n",
      "\n",
      "See the caveats in the documentation: https://pandas.pydata.org/pandas-docs/stable/user_guide/indexing.html#returning-a-view-versus-a-copy\n",
      "  \"\"\"Entry point for launching an IPython kernel.\n",
      "C:\\Users\\anubh\\anaconda3\\lib\\site-packages\\ipykernel_launcher.py:2: SettingWithCopyWarning: \n",
      "A value is trying to be set on a copy of a slice from a DataFrame.\n",
      "Try using .loc[row_indexer,col_indexer] = value instead\n",
      "\n",
      "See the caveats in the documentation: https://pandas.pydata.org/pandas-docs/stable/user_guide/indexing.html#returning-a-view-versus-a-copy\n",
      "  \n"
     ]
    }
   ],
   "source": [
    "job_trend['Company']=job_trend['Company'].astype('str')\n",
    "job_trend['Company'] = job_trend['Company'].apply(clean_text)"
   ]
  },
  {
   "cell_type": "code",
   "execution_count": 194,
   "metadata": {
    "scrolled": true
   },
   "outputs": [
    {
     "data": {
      "text/html": [
       "<div>\n",
       "<style scoped>\n",
       "    .dataframe tbody tr th:only-of-type {\n",
       "        vertical-align: middle;\n",
       "    }\n",
       "\n",
       "    .dataframe tbody tr th {\n",
       "        vertical-align: top;\n",
       "    }\n",
       "\n",
       "    .dataframe thead th {\n",
       "        text-align: right;\n",
       "    }\n",
       "</style>\n",
       "<table border=\"1\" class=\"dataframe\">\n",
       "  <thead>\n",
       "    <tr style=\"text-align: right;\">\n",
       "      <th></th>\n",
       "      <th>Year</th>\n",
       "      <th>Title</th>\n",
       "      <th>RequiredQual</th>\n",
       "      <th>jobpost</th>\n",
       "      <th>Company</th>\n",
       "    </tr>\n",
       "  </thead>\n",
       "  <tbody>\n",
       "    <tr>\n",
       "      <th>0</th>\n",
       "      <td>2004</td>\n",
       "      <td>chief financial officer</td>\n",
       "      <td>to perform this job successfully an\\nindividua...</td>\n",
       "      <td>ameria investment consulting company\\njob titl...</td>\n",
       "      <td>ameria investment consulting company</td>\n",
       "    </tr>\n",
       "    <tr>\n",
       "      <th>1</th>\n",
       "      <td>2004</td>\n",
       "      <td>fulltime community connections intern paid int...</td>\n",
       "      <td>bachelors degree masters is preferred\\n excel...</td>\n",
       "      <td>international research &amp; exchanges board irex\\...</td>\n",
       "      <td>international research &amp; exchanges board irex</td>\n",
       "    </tr>\n",
       "    <tr>\n",
       "      <th>2</th>\n",
       "      <td>2004</td>\n",
       "      <td>country coordinator</td>\n",
       "      <td>degree in environmentally related field or  y...</td>\n",
       "      <td>caucasus environmental ngo network cenn\\njob t...</td>\n",
       "      <td>caucasus environmental ngo network cenn</td>\n",
       "    </tr>\n",
       "    <tr>\n",
       "      <th>3</th>\n",
       "      <td>2004</td>\n",
       "      <td>bcc specialist</td>\n",
       "      <td>advanced degree in public health social scien...</td>\n",
       "      <td>manoff group\\njob title bcc specialist\\npositi...</td>\n",
       "      <td>manoff group</td>\n",
       "    </tr>\n",
       "    <tr>\n",
       "      <th>4</th>\n",
       "      <td>2004</td>\n",
       "      <td>software developer</td>\n",
       "      <td>university degree economical background is a ...</td>\n",
       "      <td>yerevan brandy company\\njob title software dev...</td>\n",
       "      <td>yerevan brandy company</td>\n",
       "    </tr>\n",
       "    <tr>\n",
       "      <th>...</th>\n",
       "      <td>...</td>\n",
       "      <td>...</td>\n",
       "      <td>...</td>\n",
       "      <td>...</td>\n",
       "      <td>...</td>\n",
       "    </tr>\n",
       "    <tr>\n",
       "      <th>18996</th>\n",
       "      <td>2015</td>\n",
       "      <td>senior creative ux ui designer</td>\n",
       "      <td>at least  years of experience in interface in...</td>\n",
       "      <td>technolinguistics ngo\\n\\n\\ntitle senior creati...</td>\n",
       "      <td>technolinguistics ngo</td>\n",
       "    </tr>\n",
       "    <tr>\n",
       "      <th>18997</th>\n",
       "      <td>2015</td>\n",
       "      <td>category development manager</td>\n",
       "      <td>university degree ideally business related\\n ...</td>\n",
       "      <td>cocacola hellenic bottling company armenia cjs...</td>\n",
       "      <td>cocacola hellenic bottling company armenia cjsc</td>\n",
       "    </tr>\n",
       "    <tr>\n",
       "      <th>18998</th>\n",
       "      <td>2015</td>\n",
       "      <td>operational marketing manager</td>\n",
       "      <td>degree in business marketing or a related fie...</td>\n",
       "      <td>cocacola hellenic bottling company armenia cjs...</td>\n",
       "      <td>cocacola hellenic bottling company armenia cjsc</td>\n",
       "    </tr>\n",
       "    <tr>\n",
       "      <th>18999</th>\n",
       "      <td>2015</td>\n",
       "      <td>head of online sales department</td>\n",
       "      <td>at least  year of experience in online sales ...</td>\n",
       "      <td>san lazzaro llc\\n\\n\\ntitle head of online sale...</td>\n",
       "      <td>san lazzaro llc</td>\n",
       "    </tr>\n",
       "    <tr>\n",
       "      <th>19000</th>\n",
       "      <td>2015</td>\n",
       "      <td>lawyer in legal department</td>\n",
       "      <td>higher legal education masters degree is a pl...</td>\n",
       "      <td>kamurj uco cjsc\\n\\n\\ntitle lawyer in legal dep...</td>\n",
       "      <td>kamurj uco cjsc</td>\n",
       "    </tr>\n",
       "  </tbody>\n",
       "</table>\n",
       "<p>19001 rows × 5 columns</p>\n",
       "</div>"
      ],
      "text/plain": [
       "       Year                                              Title  \\\n",
       "0      2004                            chief financial officer   \n",
       "1      2004  fulltime community connections intern paid int...   \n",
       "2      2004                                country coordinator   \n",
       "3      2004                                     bcc specialist   \n",
       "4      2004                                 software developer   \n",
       "...     ...                                                ...   \n",
       "18996  2015                     senior creative ux ui designer   \n",
       "18997  2015                       category development manager   \n",
       "18998  2015                      operational marketing manager   \n",
       "18999  2015                    head of online sales department   \n",
       "19000  2015                         lawyer in legal department   \n",
       "\n",
       "                                            RequiredQual  \\\n",
       "0      to perform this job successfully an\\nindividua...   \n",
       "1       bachelors degree masters is preferred\\n excel...   \n",
       "2       degree in environmentally related field or  y...   \n",
       "3       advanced degree in public health social scien...   \n",
       "4       university degree economical background is a ...   \n",
       "...                                                  ...   \n",
       "18996   at least  years of experience in interface in...   \n",
       "18997   university degree ideally business related\\n ...   \n",
       "18998   degree in business marketing or a related fie...   \n",
       "18999   at least  year of experience in online sales ...   \n",
       "19000   higher legal education masters degree is a pl...   \n",
       "\n",
       "                                                 jobpost  \\\n",
       "0      ameria investment consulting company\\njob titl...   \n",
       "1      international research & exchanges board irex\\...   \n",
       "2      caucasus environmental ngo network cenn\\njob t...   \n",
       "3      manoff group\\njob title bcc specialist\\npositi...   \n",
       "4      yerevan brandy company\\njob title software dev...   \n",
       "...                                                  ...   \n",
       "18996  technolinguistics ngo\\n\\n\\ntitle senior creati...   \n",
       "18997  cocacola hellenic bottling company armenia cjs...   \n",
       "18998  cocacola hellenic bottling company armenia cjs...   \n",
       "18999  san lazzaro llc\\n\\n\\ntitle head of online sale...   \n",
       "19000  kamurj uco cjsc\\n\\n\\ntitle lawyer in legal dep...   \n",
       "\n",
       "                                               Company  \n",
       "0                 ameria investment consulting company  \n",
       "1        international research & exchanges board irex  \n",
       "2              caucasus environmental ngo network cenn  \n",
       "3                                         manoff group  \n",
       "4                               yerevan brandy company  \n",
       "...                                                ...  \n",
       "18996                            technolinguistics ngo  \n",
       "18997  cocacola hellenic bottling company armenia cjsc  \n",
       "18998  cocacola hellenic bottling company armenia cjsc  \n",
       "18999                                  san lazzaro llc  \n",
       "19000                                  kamurj uco cjsc  \n",
       "\n",
       "[19001 rows x 5 columns]"
      ]
     },
     "execution_count": 194,
     "metadata": {},
     "output_type": "execute_result"
    }
   ],
   "source": [
    "job_trend"
   ]
  },
  {
   "cell_type": "markdown",
   "metadata": {},
   "source": [
    "#### Tokenization"
   ]
  },
  {
   "cell_type": "code",
   "execution_count": 195,
   "metadata": {},
   "outputs": [
    {
     "name": "stderr",
     "output_type": "stream",
     "text": [
      "C:\\Users\\anubh\\anaconda3\\lib\\site-packages\\ipykernel_launcher.py:1: SettingWithCopyWarning: \n",
      "A value is trying to be set on a copy of a slice from a DataFrame.\n",
      "Try using .loc[row_indexer,col_indexer] = value instead\n",
      "\n",
      "See the caveats in the documentation: https://pandas.pydata.org/pandas-docs/stable/user_guide/indexing.html#returning-a-view-versus-a-copy\n",
      "  \"\"\"Entry point for launching an IPython kernel.\n"
     ]
    }
   ],
   "source": [
    "job_trend['Title'] = job_trend['Title'].apply(lambda x: nltk.tokenize.word_tokenize(x))"
   ]
  },
  {
   "cell_type": "code",
   "execution_count": 196,
   "metadata": {},
   "outputs": [
    {
     "name": "stderr",
     "output_type": "stream",
     "text": [
      "C:\\Users\\anubh\\anaconda3\\lib\\site-packages\\ipykernel_launcher.py:1: SettingWithCopyWarning: \n",
      "A value is trying to be set on a copy of a slice from a DataFrame.\n",
      "Try using .loc[row_indexer,col_indexer] = value instead\n",
      "\n",
      "See the caveats in the documentation: https://pandas.pydata.org/pandas-docs/stable/user_guide/indexing.html#returning-a-view-versus-a-copy\n",
      "  \"\"\"Entry point for launching an IPython kernel.\n"
     ]
    }
   ],
   "source": [
    "job_trend['RequiredQual'] = job_trend['RequiredQual'].apply(lambda x: nltk.tokenize.word_tokenize(x))"
   ]
  },
  {
   "cell_type": "code",
   "execution_count": 197,
   "metadata": {},
   "outputs": [
    {
     "name": "stderr",
     "output_type": "stream",
     "text": [
      "C:\\Users\\anubh\\anaconda3\\lib\\site-packages\\ipykernel_launcher.py:1: SettingWithCopyWarning: \n",
      "A value is trying to be set on a copy of a slice from a DataFrame.\n",
      "Try using .loc[row_indexer,col_indexer] = value instead\n",
      "\n",
      "See the caveats in the documentation: https://pandas.pydata.org/pandas-docs/stable/user_guide/indexing.html#returning-a-view-versus-a-copy\n",
      "  \"\"\"Entry point for launching an IPython kernel.\n"
     ]
    }
   ],
   "source": [
    "job_trend['jobpost'] = job_trend['jobpost'].apply(lambda x: nltk.tokenize.word_tokenize(x))"
   ]
  },
  {
   "cell_type": "code",
   "execution_count": 198,
   "metadata": {},
   "outputs": [
    {
     "name": "stderr",
     "output_type": "stream",
     "text": [
      "C:\\Users\\anubh\\anaconda3\\lib\\site-packages\\ipykernel_launcher.py:1: SettingWithCopyWarning: \n",
      "A value is trying to be set on a copy of a slice from a DataFrame.\n",
      "Try using .loc[row_indexer,col_indexer] = value instead\n",
      "\n",
      "See the caveats in the documentation: https://pandas.pydata.org/pandas-docs/stable/user_guide/indexing.html#returning-a-view-versus-a-copy\n",
      "  \"\"\"Entry point for launching an IPython kernel.\n"
     ]
    }
   ],
   "source": [
    "job_trend['Company'] = job_trend['Company'].apply(lambda x: nltk.tokenize.word_tokenize(x))"
   ]
  },
  {
   "cell_type": "markdown",
   "metadata": {},
   "source": [
    "#### Removing Stop words"
   ]
  },
  {
   "cell_type": "code",
   "execution_count": 199,
   "metadata": {},
   "outputs": [
    {
     "name": "stdout",
     "output_type": "stream",
     "text": [
      "['i', 'me', 'my', 'myself', 'we', 'our', 'ours', 'ourselves', 'you', \"you're\", \"you've\", \"you'll\", \"you'd\", 'your', 'yours', 'yourself', 'yourselves', 'he', 'him', 'his', 'himself', 'she', \"she's\", 'her', 'hers', 'herself', 'it', \"it's\", 'its', 'itself', 'they', 'them', 'their', 'theirs', 'themselves', 'what', 'which', 'who', 'whom', 'this', 'that', \"that'll\", 'these', 'those', 'am', 'is', 'are', 'was', 'were', 'be', 'been', 'being', 'have', 'has', 'had', 'having', 'do', 'does', 'did', 'doing', 'a', 'an', 'the', 'and', 'but', 'if', 'or', 'because', 'as', 'until', 'while', 'of', 'at', 'by', 'for', 'with', 'about', 'against', 'between', 'into', 'through', 'during', 'before', 'after', 'above', 'below', 'to', 'from', 'up', 'down', 'in', 'out', 'on', 'off', 'over', 'under', 'again', 'further', 'then', 'once', 'here', 'there', 'when', 'where', 'why', 'how', 'all', 'any', 'both', 'each', 'few', 'more', 'most', 'other', 'some', 'such', 'no', 'nor', 'not', 'only', 'own', 'same', 'so', 'than', 'too', 'very', 's', 't', 'can', 'will', 'just', 'don', \"don't\", 'should', \"should've\", 'now', 'd', 'll', 'm', 'o', 're', 've', 'y', 'ain', 'aren', \"aren't\", 'couldn', \"couldn't\", 'didn', \"didn't\", 'doesn', \"doesn't\", 'hadn', \"hadn't\", 'hasn', \"hasn't\", 'haven', \"haven't\", 'isn', \"isn't\", 'ma', 'mightn', \"mightn't\", 'mustn', \"mustn't\", 'needn', \"needn't\", 'shan', \"shan't\", 'shouldn', \"shouldn't\", 'wasn', \"wasn't\", 'weren', \"weren't\", 'won', \"won't\", 'wouldn', \"wouldn't\"]\n"
     ]
    }
   ],
   "source": [
    "print(stopwords.words('english'))"
   ]
  },
  {
   "cell_type": "code",
   "execution_count": 200,
   "metadata": {},
   "outputs": [],
   "source": [
    "def stop_word(x) :\n",
    "    clean_tokens = []\n",
    "    for i in x:\n",
    "        if i not in stopwords.words(\"english\") and i != \"\":\n",
    "            clean_tokens.append(i)\n",
    "    return clean_tokens\n",
    "\n"
   ]
  },
  {
   "cell_type": "code",
   "execution_count": 201,
   "metadata": {},
   "outputs": [
    {
     "name": "stderr",
     "output_type": "stream",
     "text": [
      "C:\\Users\\anubh\\anaconda3\\lib\\site-packages\\ipykernel_launcher.py:1: SettingWithCopyWarning: \n",
      "A value is trying to be set on a copy of a slice from a DataFrame.\n",
      "Try using .loc[row_indexer,col_indexer] = value instead\n",
      "\n",
      "See the caveats in the documentation: https://pandas.pydata.org/pandas-docs/stable/user_guide/indexing.html#returning-a-view-versus-a-copy\n",
      "  \"\"\"Entry point for launching an IPython kernel.\n"
     ]
    },
    {
     "data": {
      "text/plain": [
       "0                              [chief, financial, officer]\n",
       "1        [fulltime, community, connections, intern, pai...\n",
       "2                                   [country, coordinator]\n",
       "3                                        [bcc, specialist]\n",
       "4                                    [software, developer]\n",
       "                               ...                        \n",
       "18996                 [senior, creative, ux, ui, designer]\n",
       "18997                     [category, development, manager]\n",
       "18998                    [operational, marketing, manager]\n",
       "18999                    [head, online, sales, department]\n",
       "19000                          [lawyer, legal, department]\n",
       "Name: Title, Length: 19001, dtype: object"
      ]
     },
     "execution_count": 201,
     "metadata": {},
     "output_type": "execute_result"
    }
   ],
   "source": [
    "job_trend['Title'] = job_trend['Title'].apply(stop_word)\n",
    "job_trend['Title']"
   ]
  },
  {
   "cell_type": "code",
   "execution_count": 202,
   "metadata": {},
   "outputs": [
    {
     "name": "stderr",
     "output_type": "stream",
     "text": [
      "C:\\Users\\anubh\\anaconda3\\lib\\site-packages\\ipykernel_launcher.py:1: SettingWithCopyWarning: \n",
      "A value is trying to be set on a copy of a slice from a DataFrame.\n",
      "Try using .loc[row_indexer,col_indexer] = value instead\n",
      "\n",
      "See the caveats in the documentation: https://pandas.pydata.org/pandas-docs/stable/user_guide/indexing.html#returning-a-view-versus-a-copy\n",
      "  \"\"\"Entry point for launching an IPython kernel.\n"
     ]
    },
    {
     "data": {
      "text/plain": [
       "0        [perform, job, successfully, individual, must,...\n",
       "1        [bachelors, degree, masters, preferred, excell...\n",
       "2        [degree, environmentally, related, field, year...\n",
       "3        [advanced, degree, public, health, social, sci...\n",
       "4        [university, degree, economical, background, p...\n",
       "                               ...                        \n",
       "18996    [least, years, experience, interface, interact...\n",
       "18997    [university, degree, ideally, business, relate...\n",
       "18998    [degree, business, marketing, related, field, ...\n",
       "18999    [least, year, experience, online, sales, manag...\n",
       "19000    [higher, legal, education, masters, degree, pl...\n",
       "Name: RequiredQual, Length: 19001, dtype: object"
      ]
     },
     "execution_count": 202,
     "metadata": {},
     "output_type": "execute_result"
    }
   ],
   "source": [
    "job_trend['RequiredQual'] = job_trend['RequiredQual'].apply(stop_word)\n",
    "job_trend['RequiredQual']"
   ]
  },
  {
   "cell_type": "code",
   "execution_count": 203,
   "metadata": {},
   "outputs": [
    {
     "name": "stderr",
     "output_type": "stream",
     "text": [
      "C:\\Users\\anubh\\anaconda3\\lib\\site-packages\\ipykernel_launcher.py:1: SettingWithCopyWarning: \n",
      "A value is trying to be set on a copy of a slice from a DataFrame.\n",
      "Try using .loc[row_indexer,col_indexer] = value instead\n",
      "\n",
      "See the caveats in the documentation: https://pandas.pydata.org/pandas-docs/stable/user_guide/indexing.html#returning-a-view-versus-a-copy\n",
      "  \"\"\"Entry point for launching an IPython kernel.\n"
     ]
    },
    {
     "data": {
      "text/plain": [
       "0        [ameria, investment, consulting, company, job,...\n",
       "1        [international, research, &, exchanges, board,...\n",
       "2        [caucasus, environmental, ngo, network, cenn, ...\n",
       "3        [manoff, group, job, title, bcc, specialist, p...\n",
       "4        [yerevan, brandy, company, job, title, softwar...\n",
       "                               ...                        \n",
       "18996    [technolinguistics, ngo, title, senior, creati...\n",
       "18997    [cocacola, hellenic, bottling, company, armeni...\n",
       "18998    [cocacola, hellenic, bottling, company, armeni...\n",
       "18999    [san, lazzaro, llc, title, head, online, sales...\n",
       "19000    [kamurj, uco, cjsc, title, lawyer, legal, depa...\n",
       "Name: jobpost, Length: 19001, dtype: object"
      ]
     },
     "execution_count": 203,
     "metadata": {},
     "output_type": "execute_result"
    }
   ],
   "source": [
    "job_trend['jobpost'] = job_trend['jobpost'].apply(stop_word)\n",
    "job_trend['jobpost']"
   ]
  },
  {
   "cell_type": "code",
   "execution_count": 204,
   "metadata": {},
   "outputs": [
    {
     "name": "stderr",
     "output_type": "stream",
     "text": [
      "C:\\Users\\anubh\\anaconda3\\lib\\site-packages\\ipykernel_launcher.py:1: SettingWithCopyWarning: \n",
      "A value is trying to be set on a copy of a slice from a DataFrame.\n",
      "Try using .loc[row_indexer,col_indexer] = value instead\n",
      "\n",
      "See the caveats in the documentation: https://pandas.pydata.org/pandas-docs/stable/user_guide/indexing.html#returning-a-view-versus-a-copy\n",
      "  \"\"\"Entry point for launching an IPython kernel.\n"
     ]
    },
    {
     "data": {
      "text/plain": [
       "0                [ameria, investment, consulting, company]\n",
       "1        [international, research, &, exchanges, board,...\n",
       "2            [caucasus, environmental, ngo, network, cenn]\n",
       "3                                          [manoff, group]\n",
       "4                               [yerevan, brandy, company]\n",
       "                               ...                        \n",
       "18996                             [technolinguistics, ngo]\n",
       "18997    [cocacola, hellenic, bottling, company, armeni...\n",
       "18998    [cocacola, hellenic, bottling, company, armeni...\n",
       "18999                                  [san, lazzaro, llc]\n",
       "19000                                  [kamurj, uco, cjsc]\n",
       "Name: Company, Length: 19001, dtype: object"
      ]
     },
     "execution_count": 204,
     "metadata": {},
     "output_type": "execute_result"
    }
   ],
   "source": [
    "job_trend['Company'] = job_trend['Company'].apply(stop_word)\n",
    "job_trend['Company']"
   ]
  },
  {
   "cell_type": "markdown",
   "metadata": {},
   "source": [
    "#### Lemmatization"
   ]
  },
  {
   "cell_type": "code",
   "execution_count": 205,
   "metadata": {},
   "outputs": [
    {
     "name": "stderr",
     "output_type": "stream",
     "text": [
      "C:\\Users\\anubh\\anaconda3\\lib\\site-packages\\ipykernel_launcher.py:1: SettingWithCopyWarning: \n",
      "A value is trying to be set on a copy of a slice from a DataFrame.\n",
      "Try using .loc[row_indexer,col_indexer] = value instead\n",
      "\n",
      "See the caveats in the documentation: https://pandas.pydata.org/pandas-docs/stable/user_guide/indexing.html#returning-a-view-versus-a-copy\n",
      "  \"\"\"Entry point for launching an IPython kernel.\n",
      "C:\\Users\\anubh\\anaconda3\\lib\\site-packages\\ipykernel_launcher.py:2: SettingWithCopyWarning: \n",
      "A value is trying to be set on a copy of a slice from a DataFrame.\n",
      "Try using .loc[row_indexer,col_indexer] = value instead\n",
      "\n",
      "See the caveats in the documentation: https://pandas.pydata.org/pandas-docs/stable/user_guide/indexing.html#returning-a-view-versus-a-copy\n",
      "  \n"
     ]
    }
   ],
   "source": [
    "job_trend['Title'] = job_trend['Title'].apply(lambda x: [Word(word).lemmatize() for word in x])\n",
    "job_trend['Title'] = job_trend['Title'].apply(lambda x: ' '.join(x))"
   ]
  },
  {
   "cell_type": "code",
   "execution_count": 206,
   "metadata": {},
   "outputs": [
    {
     "name": "stderr",
     "output_type": "stream",
     "text": [
      "C:\\Users\\anubh\\anaconda3\\lib\\site-packages\\ipykernel_launcher.py:1: SettingWithCopyWarning: \n",
      "A value is trying to be set on a copy of a slice from a DataFrame.\n",
      "Try using .loc[row_indexer,col_indexer] = value instead\n",
      "\n",
      "See the caveats in the documentation: https://pandas.pydata.org/pandas-docs/stable/user_guide/indexing.html#returning-a-view-versus-a-copy\n",
      "  \"\"\"Entry point for launching an IPython kernel.\n",
      "C:\\Users\\anubh\\anaconda3\\lib\\site-packages\\ipykernel_launcher.py:2: SettingWithCopyWarning: \n",
      "A value is trying to be set on a copy of a slice from a DataFrame.\n",
      "Try using .loc[row_indexer,col_indexer] = value instead\n",
      "\n",
      "See the caveats in the documentation: https://pandas.pydata.org/pandas-docs/stable/user_guide/indexing.html#returning-a-view-versus-a-copy\n",
      "  \n"
     ]
    }
   ],
   "source": [
    "job_trend['RequiredQual'] = job_trend['RequiredQual'].apply(lambda x: [Word(word).lemmatize() for word in x])\n",
    "job_trend['RequiredQual'] = job_trend['RequiredQual'].apply(lambda x: ' '.join(x))"
   ]
  },
  {
   "cell_type": "code",
   "execution_count": 207,
   "metadata": {},
   "outputs": [
    {
     "name": "stderr",
     "output_type": "stream",
     "text": [
      "C:\\Users\\anubh\\anaconda3\\lib\\site-packages\\ipykernel_launcher.py:1: SettingWithCopyWarning: \n",
      "A value is trying to be set on a copy of a slice from a DataFrame.\n",
      "Try using .loc[row_indexer,col_indexer] = value instead\n",
      "\n",
      "See the caveats in the documentation: https://pandas.pydata.org/pandas-docs/stable/user_guide/indexing.html#returning-a-view-versus-a-copy\n",
      "  \"\"\"Entry point for launching an IPython kernel.\n",
      "C:\\Users\\anubh\\anaconda3\\lib\\site-packages\\ipykernel_launcher.py:2: SettingWithCopyWarning: \n",
      "A value is trying to be set on a copy of a slice from a DataFrame.\n",
      "Try using .loc[row_indexer,col_indexer] = value instead\n",
      "\n",
      "See the caveats in the documentation: https://pandas.pydata.org/pandas-docs/stable/user_guide/indexing.html#returning-a-view-versus-a-copy\n",
      "  \n"
     ]
    }
   ],
   "source": [
    "job_trend['jobpost'] = job_trend['jobpost'].apply(lambda x: [Word(word).lemmatize() for word in x])\n",
    "job_trend['jobpost'] = job_trend['jobpost'].apply(lambda x: ' '.join(x))"
   ]
  },
  {
   "cell_type": "code",
   "execution_count": 208,
   "metadata": {},
   "outputs": [
    {
     "name": "stderr",
     "output_type": "stream",
     "text": [
      "C:\\Users\\anubh\\anaconda3\\lib\\site-packages\\ipykernel_launcher.py:1: SettingWithCopyWarning: \n",
      "A value is trying to be set on a copy of a slice from a DataFrame.\n",
      "Try using .loc[row_indexer,col_indexer] = value instead\n",
      "\n",
      "See the caveats in the documentation: https://pandas.pydata.org/pandas-docs/stable/user_guide/indexing.html#returning-a-view-versus-a-copy\n",
      "  \"\"\"Entry point for launching an IPython kernel.\n",
      "C:\\Users\\anubh\\anaconda3\\lib\\site-packages\\ipykernel_launcher.py:2: SettingWithCopyWarning: \n",
      "A value is trying to be set on a copy of a slice from a DataFrame.\n",
      "Try using .loc[row_indexer,col_indexer] = value instead\n",
      "\n",
      "See the caveats in the documentation: https://pandas.pydata.org/pandas-docs/stable/user_guide/indexing.html#returning-a-view-versus-a-copy\n",
      "  \n"
     ]
    }
   ],
   "source": [
    "job_trend['Company'] = job_trend['Company'].apply(lambda x: [Word(word).lemmatize() for word in x])\n",
    "job_trend['Company'] = job_trend['Company'].apply(lambda x: ' '.join(x))"
   ]
  },
  {
   "cell_type": "code",
   "execution_count": 209,
   "metadata": {},
   "outputs": [
    {
     "data": {
      "text/html": [
       "<div>\n",
       "<style scoped>\n",
       "    .dataframe tbody tr th:only-of-type {\n",
       "        vertical-align: middle;\n",
       "    }\n",
       "\n",
       "    .dataframe tbody tr th {\n",
       "        vertical-align: top;\n",
       "    }\n",
       "\n",
       "    .dataframe thead th {\n",
       "        text-align: right;\n",
       "    }\n",
       "</style>\n",
       "<table border=\"1\" class=\"dataframe\">\n",
       "  <thead>\n",
       "    <tr style=\"text-align: right;\">\n",
       "      <th></th>\n",
       "      <th>Year</th>\n",
       "      <th>Title</th>\n",
       "      <th>RequiredQual</th>\n",
       "      <th>jobpost</th>\n",
       "      <th>Company</th>\n",
       "    </tr>\n",
       "  </thead>\n",
       "  <tbody>\n",
       "    <tr>\n",
       "      <th>0</th>\n",
       "      <td>2004</td>\n",
       "      <td>chief financial officer</td>\n",
       "      <td>perform job successfully individual must able ...</td>\n",
       "      <td>ameria investment consulting company job title...</td>\n",
       "      <td>ameria investment consulting company</td>\n",
       "    </tr>\n",
       "    <tr>\n",
       "      <th>1</th>\n",
       "      <td>2004</td>\n",
       "      <td>fulltime community connection intern paid inte...</td>\n",
       "      <td>bachelor degree master preferred excellent ski...</td>\n",
       "      <td>international research &amp; exchange board irex t...</td>\n",
       "      <td>international research &amp; exchange board irex</td>\n",
       "    </tr>\n",
       "    <tr>\n",
       "      <th>2</th>\n",
       "      <td>2004</td>\n",
       "      <td>country coordinator</td>\n",
       "      <td>degree environmentally related field year rele...</td>\n",
       "      <td>caucasus environmental ngo network cenn job ti...</td>\n",
       "      <td>caucasus environmental ngo network cenn</td>\n",
       "    </tr>\n",
       "    <tr>\n",
       "      <th>3</th>\n",
       "      <td>2004</td>\n",
       "      <td>bcc specialist</td>\n",
       "      <td>advanced degree public health social science c...</td>\n",
       "      <td>manoff group job title bcc specialist position...</td>\n",
       "      <td>manoff group</td>\n",
       "    </tr>\n",
       "    <tr>\n",
       "      <th>4</th>\n",
       "      <td>2004</td>\n",
       "      <td>software developer</td>\n",
       "      <td>university degree economical background plus e...</td>\n",
       "      <td>yerevan brandy company job title software deve...</td>\n",
       "      <td>yerevan brandy company</td>\n",
       "    </tr>\n",
       "    <tr>\n",
       "      <th>...</th>\n",
       "      <td>...</td>\n",
       "      <td>...</td>\n",
       "      <td>...</td>\n",
       "      <td>...</td>\n",
       "      <td>...</td>\n",
       "    </tr>\n",
       "    <tr>\n",
       "      <th>18996</th>\n",
       "      <td>2015</td>\n",
       "      <td>senior creative ux ui designer</td>\n",
       "      <td>least year experience interface interaction de...</td>\n",
       "      <td>technolinguistics ngo title senior creative ux...</td>\n",
       "      <td>technolinguistics ngo</td>\n",
       "    </tr>\n",
       "    <tr>\n",
       "      <th>18997</th>\n",
       "      <td>2015</td>\n",
       "      <td>category development manager</td>\n",
       "      <td>university degree ideally business related com...</td>\n",
       "      <td>cocacola hellenic bottling company armenia cjs...</td>\n",
       "      <td>cocacola hellenic bottling company armenia cjsc</td>\n",
       "    </tr>\n",
       "    <tr>\n",
       "      <th>18998</th>\n",
       "      <td>2015</td>\n",
       "      <td>operational marketing manager</td>\n",
       "      <td>degree business marketing related field equiva...</td>\n",
       "      <td>cocacola hellenic bottling company armenia cjs...</td>\n",
       "      <td>cocacola hellenic bottling company armenia cjsc</td>\n",
       "    </tr>\n",
       "    <tr>\n",
       "      <th>18999</th>\n",
       "      <td>2015</td>\n",
       "      <td>head online sale department</td>\n",
       "      <td>least year experience online sale management r...</td>\n",
       "      <td>san lazzaro llc title head online sale departm...</td>\n",
       "      <td>san lazzaro llc</td>\n",
       "    </tr>\n",
       "    <tr>\n",
       "      <th>19000</th>\n",
       "      <td>2015</td>\n",
       "      <td>lawyer legal department</td>\n",
       "      <td>higher legal education master degree plus exis...</td>\n",
       "      <td>kamurj uco cjsc title lawyer legal department ...</td>\n",
       "      <td>kamurj uco cjsc</td>\n",
       "    </tr>\n",
       "  </tbody>\n",
       "</table>\n",
       "<p>19001 rows × 5 columns</p>\n",
       "</div>"
      ],
      "text/plain": [
       "       Year                                              Title  \\\n",
       "0      2004                            chief financial officer   \n",
       "1      2004  fulltime community connection intern paid inte...   \n",
       "2      2004                                country coordinator   \n",
       "3      2004                                     bcc specialist   \n",
       "4      2004                                 software developer   \n",
       "...     ...                                                ...   \n",
       "18996  2015                     senior creative ux ui designer   \n",
       "18997  2015                       category development manager   \n",
       "18998  2015                      operational marketing manager   \n",
       "18999  2015                        head online sale department   \n",
       "19000  2015                            lawyer legal department   \n",
       "\n",
       "                                            RequiredQual  \\\n",
       "0      perform job successfully individual must able ...   \n",
       "1      bachelor degree master preferred excellent ski...   \n",
       "2      degree environmentally related field year rele...   \n",
       "3      advanced degree public health social science c...   \n",
       "4      university degree economical background plus e...   \n",
       "...                                                  ...   \n",
       "18996  least year experience interface interaction de...   \n",
       "18997  university degree ideally business related com...   \n",
       "18998  degree business marketing related field equiva...   \n",
       "18999  least year experience online sale management r...   \n",
       "19000  higher legal education master degree plus exis...   \n",
       "\n",
       "                                                 jobpost  \\\n",
       "0      ameria investment consulting company job title...   \n",
       "1      international research & exchange board irex t...   \n",
       "2      caucasus environmental ngo network cenn job ti...   \n",
       "3      manoff group job title bcc specialist position...   \n",
       "4      yerevan brandy company job title software deve...   \n",
       "...                                                  ...   \n",
       "18996  technolinguistics ngo title senior creative ux...   \n",
       "18997  cocacola hellenic bottling company armenia cjs...   \n",
       "18998  cocacola hellenic bottling company armenia cjs...   \n",
       "18999  san lazzaro llc title head online sale departm...   \n",
       "19000  kamurj uco cjsc title lawyer legal department ...   \n",
       "\n",
       "                                               Company  \n",
       "0                 ameria investment consulting company  \n",
       "1         international research & exchange board irex  \n",
       "2              caucasus environmental ngo network cenn  \n",
       "3                                         manoff group  \n",
       "4                               yerevan brandy company  \n",
       "...                                                ...  \n",
       "18996                            technolinguistics ngo  \n",
       "18997  cocacola hellenic bottling company armenia cjsc  \n",
       "18998  cocacola hellenic bottling company armenia cjsc  \n",
       "18999                                  san lazzaro llc  \n",
       "19000                                  kamurj uco cjsc  \n",
       "\n",
       "[19001 rows x 5 columns]"
      ]
     },
     "execution_count": 209,
     "metadata": {},
     "output_type": "execute_result"
    }
   ],
   "source": [
    "job_trend"
   ]
  },
  {
   "cell_type": "markdown",
   "metadata": {},
   "source": [
    "## Job Nature and Company Profiles"
   ]
  },
  {
   "cell_type": "code",
   "execution_count": 158,
   "metadata": {},
   "outputs": [
    {
     "data": {
      "image/png": "[encoded data removed]",
      "text/plain": [
       "<Figure size 1152x576 with 1 Axes>"
      ]
     },
     "metadata": {
      "needs_background": "light"
     },
     "output_type": "display_data"
    },
    {
     "data": {
      "image/png": "[encoded data removed]",
      "text/plain": [
       "<Figure size 1152x576 with 1 Axes>"
      ]
     },
     "metadata": {
      "needs_background": "light"
     },
     "output_type": "display_data"
    },
    {
     "data": {
      "image/png": "[encoded data removed]",
      "text/plain": [
       "<Figure size 1152x576 with 1 Axes>"
      ]
     },
     "metadata": {
      "needs_background": "light"
     },
     "output_type": "display_data"
    },
    {
     "data": {
      "image/png": "[encoded data removed]",
      "text/plain": [
       "<Figure size 1152x576 with 1 Axes>"
      ]
     },
     "metadata": {
      "needs_background": "light"
     },
     "output_type": "display_data"
    },
    {
     "data": {
      "image/png": "[encoded data removed]",
      "text/plain": [
       "<Figure size 1152x576 with 1 Axes>"
      ]
     },
     "metadata": {
      "needs_background": "light"
     },
     "output_type": "display_data"
    },
    {
     "data": {
      "image/png": "[encoded data removed]",
      "text/plain": [
       "<Figure size 1152x576 with 1 Axes>"
      ]
     },
     "metadata": {
      "needs_background": "light"
     },
     "output_type": "display_data"
    },
    {
     "data": {
      "image/png": "[encoded data removed]",
      "text/plain": [
       "<Figure size 1152x576 with 1 Axes>"
      ]
     },
     "metadata": {
      "needs_background": "light"
     },
     "output_type": "display_data"
    },
    {
     "data": {
      "image/png": "[encoded data removed]",
      "text/plain": [
       "<Figure size 1152x576 with 1 Axes>"
      ]
     },
     "metadata": {
      "needs_background": "light"
     },
     "output_type": "display_data"
    },
    {
     "data": {
      "image/png": "[encoded data removed]",
      "text/plain": [
       "<Figure size 1152x576 with 1 Axes>"
      ]
     },
     "metadata": {
      "needs_background": "light"
     },
     "output_type": "display_data"
    },
    {
     "data": {
      "image/png": "[encoded data removed]",
      "text/plain": [
       "<Figure size 1152x576 with 1 Axes>"
      ]
     },
     "metadata": {
      "needs_background": "light"
     },
     "output_type": "display_data"
    },
    {
     "data": {
      "image/png": "[encoded data removed]",
      "text/plain": [
       "<Figure size 1152x576 with 1 Axes>"
      ]
     },
     "metadata": {
      "needs_background": "light"
     },
     "output_type": "display_data"
    },
    {
     "data": {
      "image/png": "[encoded data removed]",
      "text/plain": [
       "<Figure size 1152x576 with 1 Axes>"
      ]
     },
     "metadata": {
      "needs_background": "light"
     },
     "output_type": "display_data"
    }
   ],
   "source": [
    "jobs_data = job_trend.groupby(by = ['Year','Title']).size().reset_index()\n",
    "jobs_data.columns = [\"Year\", \"Title\", \"cnt\"]\n",
    "jobs_data = jobs_data.sort_values(by = ['Year', 'cnt'], ascending = False)\n",
    "# jobs_data = jobs_data.groupby('Year')\n",
    "for y in range(2004, 2016):\n",
    "    df = jobs_data[jobs_data['Year'] == y].head()\n",
    "    plt.figure(figsize = (16, 8))\n",
    "    plt.bar(df['Title'], df['cnt'])\n",
    "    plt.title(\"Year : \" + str(y))\n",
    "    plt.xlabel(\"Job\")\n",
    "    plt.ylabel(\"Count\")"
   ]
  },
  {
   "cell_type": "code",
   "execution_count": 170,
   "metadata": {},
   "outputs": [
    {
     "name": "stdout",
     "output_type": "stream",
     "text": [
      "Year 2004\n",
      "Topic: 0 \n",
      "Words: ['specialist', 'officer', 'engineer', 'assistant', 'teacher']\n",
      "Topic: 1 \n",
      "Words: ['manager', 'program', 'senior', 'coordinator', 'engineer']\n",
      "Topic: 2 \n",
      "Words: ['assistant', 'developer', 'director', 'project', 'engineer']\n",
      "Year 2005\n",
      "Topic: 0 \n",
      "Words: ['specialist', 'head', 'assistant', 'department', 'developer']\n",
      "Topic: 1 \n",
      "Words: ['specialist', 'senior', 'manager', 'officer', 'developer']\n",
      "Topic: 2 \n",
      "Words: ['manager', 'assistant', 'engineer', 'development', 'sale']\n",
      "Year 2006\n",
      "Topic: 0 \n",
      "Words: ['director', 'administrator', 'engineer', 'coordinator', 'senior']\n",
      "Topic: 1 \n",
      "Words: ['assistant', 'engineer', 'specialist', 'manager', 'officer']\n",
      "Topic: 2 \n",
      "Words: ['manager', 'specialist', 'developer', 'software', 'officer']\n",
      "Year 2007\n",
      "Topic: 0 \n",
      "Words: ['specialist', 'manager', 'officer', 'coordinator', 'project']\n",
      "Topic: 1 \n",
      "Words: ['specialist', 'assistant', 'department', 'manager', 'director']\n",
      "Topic: 2 \n",
      "Words: ['manager', 'developer', 'engineer', 'senior', 'software']\n",
      "Year 2008\n",
      "Topic: 0 \n",
      "Words: ['assistant', 'system', 'specialist', 'administrator', 'language']\n",
      "Topic: 1 \n",
      "Words: ['manager', 'engineer', 'developer', 'specialist', 'senior']\n",
      "Topic: 2 \n",
      "Words: ['specialist', 'officer', 'expert', 'division', 'financial']\n",
      "Year 2009\n",
      "Topic: 0 \n",
      "Words: ['engineer', 'assistant', 'specialist', 'senior', 'manager']\n",
      "Topic: 1 \n",
      "Words: ['specialist', 'manager', 'engineer', 'sale', 'department']\n",
      "Topic: 2 \n",
      "Words: ['manager', 'expert', 'consultant', 'developer', 'assistant']\n",
      "Year 2010\n",
      "Topic: 0 \n",
      "Words: ['engineer', 'senior', 'development', 'officer', 'expert']\n",
      "Topic: 1 \n",
      "Words: ['assistant', 'developer', 'software', 'senior', 'consultant']\n",
      "Topic: 2 \n",
      "Words: ['specialist', 'manager', 'department', 'senior', 'head']\n",
      "Year 2011\n",
      "Topic: 0 \n",
      "Words: ['specialist', 'manager', 'department', 'head', 'project']\n",
      "Topic: 1 \n",
      "Words: ['developer', 'senior', 'manager', 'engineer', 'assistant']\n",
      "Topic: 2 \n",
      "Words: ['specialist', 'officer', 'engineer', 'manager', 'marketing']\n",
      "Year 2012\n",
      "Topic: 0 \n",
      "Words: ['manager', 'coordinator', 'specialist', 'security', 'assistant']\n",
      "Topic: 1 \n",
      "Words: ['engineer', 'manager', 'senior', 'specialist', 'department']\n",
      "Topic: 2 \n",
      "Words: ['specialist', 'developer', 'manager', 'senior', 'project']\n",
      "Year 2013\n",
      "Topic: 0 \n",
      "Words: ['specialist', 'manager', 'senior', 'sale', 'development']\n",
      "Topic: 1 \n",
      "Words: ['specialist', 'manager', 'engineer', 'department', 'head']\n",
      "Topic: 2 \n",
      "Words: ['developer', 'officer', 'head', 'chief', 'senior']\n",
      "Year 2014\n",
      "Topic: 0 \n",
      "Words: ['manager', 'specialist', 'sale', 'developer', 'department']\n",
      "Topic: 1 \n",
      "Words: ['senior', 'developer', 'specialist', 'expert', 'development']\n",
      "Topic: 2 \n",
      "Words: ['specialist', 'engineer', 'officer', 'manager', 'assistant']\n",
      "Year 2015\n",
      "Topic: 0 \n",
      "Words: ['developer', 'senior', 'engineer', 'assistant', 'coordinator']\n",
      "Topic: 1 \n",
      "Words: ['specialist', 'manager', 'head', 'department', 'engineer']\n",
      "Topic: 2 \n",
      "Words: ['manager', 'specialist', 'developer', 'department', 'senior']\n"
     ]
    }
   ],
   "source": [
    "for y in range(2004, 2016):\n",
    "    df = jobs_data[jobs_data['Year'] == y]\n",
    "    X = df['Title']\n",
    "    ### Topic Modeling using gensim (Latent Dirichlet allocation)\n",
    "    X_tokens = [doc.split() for doc in X]\n",
    "    dictionary = corpora.Dictionary(X_tokens)\n",
    "#     print(dictionary)\n",
    "    doc_term_matrix = [dictionary.doc2bow(doc) for doc in X_tokens]\n",
    "\n",
    "    # Creating the object for LDA model using gensim library\n",
    "    Lda = gensim.models.ldamodel.LdaModel\n",
    "\n",
    "    # Running and Trainign LDA model on the document term matrix.\n",
    "    ldamodel = Lda(doc_term_matrix, num_topics=3, id2word = dictionary, passes=1)\n",
    "    print(\"Year {}\".format(y))\n",
    "    for index, topic in ldamodel.show_topics(formatted=False, num_words= 5, num_topics=3):\n",
    "        print('Topic: {} \\nWords: {}'.format(index, [w[0] for w in topic]))    "
   ]
  },
  {
   "cell_type": "markdown",
   "metadata": {},
   "source": [
    "**Accountants being in top demand over the years but the trend is moving more towards IT and software engineering jobs in recent years**"
   ]
  },
  {
   "cell_type": "markdown",
   "metadata": {},
   "source": [
    "## Desired Characteristics and Skill-Sets"
   ]
  },
  {
   "cell_type": "code",
   "execution_count": 141,
   "metadata": {},
   "outputs": [
    {
     "data": {
      "text/plain": [
       "0        To perform this job successfully, an\\nindividu...\n",
       "1        - Bachelor's Degree; Master's is preferred;\\n-...\n",
       "2        - Degree in environmentally related field, or ...\n",
       "3        - Advanced degree in public health, social sci...\n",
       "4        - University degree; economical background is ...\n",
       "                               ...                        \n",
       "18996    - At least 5 years of experience in Interface/...\n",
       "18997    - University degree, ideally business related;...\n",
       "18998    - Degree in Business, Marketing or a related f...\n",
       "18999    - At least 1 year of experience in online sale...\n",
       "19000    - Higher legal education; Master's degree is a...\n",
       "Name: RequiredQual, Length: 19001, dtype: object"
      ]
     },
     "execution_count": 141,
     "metadata": {},
     "output_type": "execute_result"
    }
   ],
   "source": [
    "job['RequiredQual']"
   ]
  },
  {
   "cell_type": "code",
   "execution_count": 179,
   "metadata": {},
   "outputs": [],
   "source": [
    "def apply_clustering(X):\n",
    "    ### Vectorization\n",
    "    tfidf_vect = TfidfVectorizer(analyzer='word', \n",
    "                             token_pattern=r'\\w{1,}', \n",
    "                             ngram_range=(1, 1 ), \n",
    "                             min_df=5, \n",
    "                             encoding='latin-1' , \n",
    "                             lowercase = True,\n",
    "                             max_features=1000)\n",
    "    X_tfidf = tfidf_vect.fit_transform(X)\n",
    "    ### Clustering\n",
    "    model = KMeans(n_clusters=3, init='k-means++', max_iter=100, n_init=1,random_state=5)\n",
    "    res = model.fit(X_tfidf)\n",
    "\n",
    "    sse_err = []\n",
    "    cluster_centers = np.array(res.cluster_centers_)\n",
    "    sorted_vals = [res.cluster_centers_[i].argsort() for i in range(0,np.shape(res.cluster_centers_)[0])]\n",
    "\n",
    "    vocab = np.array(tfidf_vect.get_feature_names())\n",
    "\n",
    "    words=set()\n",
    "    for i in range(len(res.cluster_centers_)):\n",
    "        print(\"Cluster {}\".format(i))\n",
    "        print(vocab[sorted_vals[i][-10:]])\n"
   ]
  },
  {
   "cell_type": "code",
   "execution_count": 180,
   "metadata": {},
   "outputs": [
    {
     "name": "stdout",
     "output_type": "stream",
     "text": [
      "Year : 2004\n",
      "Cluster 0\n",
      "['expert' 'expertise' 'explorer' 'express' 'extended' 'extensive'\n",
      " 'extensively' 'familiar' 'yerevan' 'nan']\n",
      "Cluster 1\n",
      "['computer' 'ability' 'english' 'work' 'russian' 'knowledge' 'armenian'\n",
      " 'experience' 'excellent' 'skill']\n",
      "Cluster 2\n",
      "['ability' 'desirable' 'degree' 'language' 'good' 'english' 'work' 'year'\n",
      " 'knowledge' 'experience']\n",
      "=========================\n",
      "Year : 2005\n",
      "Cluster 0\n",
      "['explorer' 'express' 'extensive' 'extensively' 'external' 'extra'\n",
      " 'extreme' 'expatriate' 'yerevan' 'nan']\n",
      "Cluster 1\n",
      "['russian' 'ability' 'good' 'armenian' 'experience' 'language' 'work'\n",
      " 'excellent' 'knowledge' 'skill']\n",
      "Cluster 2\n",
      "['least' 'c' 'system' 'software' 'work' 'ability' 'year' 'development'\n",
      " 'knowledge' 'experience']\n",
      "=========================\n",
      "Year : 2006\n",
      "Cluster 0\n",
      "['language' 'degree' 'year' 'ability' 'accounting' 'skill' 'nan' 'work'\n",
      " 'knowledge' 'experience']\n",
      "Cluster 1\n",
      "['education' 'higher' 'armenian' 'russian' 'work' 'good' 'language'\n",
      " 'excellent' 'skill' 'knowledge']\n",
      "Cluster 2\n",
      "['programming' 'year' 'web' 'work' 'server' 'development' 'c' 'sql'\n",
      " 'experience' 'knowledge']\n",
      "=========================\n",
      "Year : 2007\n",
      "Cluster 0\n",
      "['especially' 'essential' 'establish' 'etc' 'ethic' 'evaluate'\n",
      " 'evaluation' 'enthusiastic' 'yerevan' 'nan']\n",
      "Cluster 1\n",
      "['russian' 'english' 'good' 'excellent' 'language' 'ability' 'work'\n",
      " 'experience' 'skill' 'knowledge']\n",
      "Cluster 2\n",
      "['standard' 'work' 'skill' 'excellent' 'armenian' 'experience' 'financial'\n",
      " 'finance' 'knowledge' 'accounting']\n",
      "=========================\n",
      "Year : 2008\n",
      "Cluster 0\n",
      "['evaluation' 'event' 'excel' 'excellent' 'exceptional' 'exchange'\n",
      " 'execution' 'ethic' 'yerevan' 'nan']\n",
      "Cluster 1\n",
      "['communication' 'language' 'russian' 'armenian' 'experience' 'ability'\n",
      " 'work' 'knowledge' 'excellent' 'skill']\n",
      "Cluster 2\n",
      "['accounting' 'development' 'language' 'year' 'skill' 'ability' 'good'\n",
      " 'work' 'experience' 'knowledge']\n",
      "=========================\n",
      "Year : 2009\n",
      "Cluster 0\n",
      "['expert' 'expertise' 'explorer' 'exporter' 'express' 'expression'\n",
      " 'extensive' 'event' 'yui' 'nan']\n",
      "Cluster 1\n",
      "['standard' 'good' 'year' 'armenian' 'experience' 'professional' 'work'\n",
      " 'finance' 'knowledge' 'accounting']\n",
      "Cluster 2\n",
      "['russian' 'english' 'good' 'excellent' 'language' 'work' 'ability'\n",
      " 'experience' 'skill' 'knowledge']\n",
      "=========================\n",
      "Year : 2010\n",
      "Cluster 0\n",
      "['exchange' 'execution' 'executive' 'experience' 'experienced' 'expert'\n",
      " 'expertise' 'even' 'year' 'nan']\n",
      "Cluster 1\n",
      "['experience' 'armenian' 'language' 'good' 'russian' 'ability' 'excellent'\n",
      " 'work' 'skill' 'knowledge']\n",
      "Cluster 2\n",
      "['degree' 'language' 'good' 'work' 'development' 'year' 'ability' 'skill'\n",
      " 'knowledge' 'experience']\n",
      "=========================\n",
      "Year : 2011\n",
      "Cluster 0\n",
      "['design' 'programming' 'web' 'c' 'ability' 'skill' 'good' 'development'\n",
      " 'experience' 'knowledge']\n",
      "Cluster 1\n",
      "['excellent' 'work' 'strong' 'degree' 'knowledge' 'management' 'ability'\n",
      " 'nan' 'experience' 'skill']\n",
      "Cluster 2\n",
      "['experience' 'good' 'language' 'ability' 'russian' 'armenian' 'work'\n",
      " 'excellent' 'skill' 'knowledge']\n",
      "=========================\n",
      "Year : 2012\n",
      "Cluster 0\n",
      "['experience' 'higher' 'education' 'armenian' 'russian' 'work' 'language'\n",
      " 'excellent' 'skill' 'knowledge']\n",
      "Cluster 1\n",
      "['programming' 'work' 'design' 'ability' 'skill' 'c' 'development' 'good'\n",
      " 'experience' 'knowledge']\n",
      "Cluster 2\n",
      "['english' 'degree' 'language' 'excellent' 'management' 'knowledge' 'work'\n",
      " 'experience' 'skill' 'ability']\n",
      "=========================\n",
      "Year : 2013\n",
      "Cluster 0\n",
      "['english' 'russian' 'armenian' 'excellent' 'language' 'experience'\n",
      " 'ability' 'work' 'knowledge' 'skill']\n",
      "Cluster 1\n",
      "['event' 'example' 'excel' 'excellent' 'exceptional' 'exchange'\n",
      " 'executive' 'ethic' 'year' 'nan']\n",
      "Cluster 2\n",
      "['software' 'plus' 'skill' 'sql' 'ability' 'c' 'good' 'development'\n",
      " 'experience' 'knowledge']\n",
      "=========================\n",
      "Year : 2014\n",
      "Cluster 0\n",
      "['degree' 'project' 'field' 'language' 'management' 'work' 'knowledge'\n",
      " 'skill' 'ability' 'experience']\n",
      "Cluster 1\n",
      "['accounting' 'experience' 'ability' 'russian' 'armenian' 'language'\n",
      " 'work' 'excellent' 'knowledge' 'skill']\n",
      "Cluster 2\n",
      "['web' 'plus' 'programming' 'c' 'design' 'ability' 'development' 'good'\n",
      " 'experience' 'knowledge']\n",
      "=========================\n",
      "Year : 2015\n",
      "Cluster 0\n",
      "['communication' 'strong' 'excellent' 'language' 'management' 'work'\n",
      " 'knowledge' 'experience' 'ability' 'skill']\n",
      "Cluster 1\n",
      "['javascript' 'ability' 'web' 'design' 'c' 'plus' 'good' 'development'\n",
      " 'knowledge' 'experience']\n",
      "Cluster 2\n",
      "['education' 'experience' 'accounting' 'russian' 'armenian' 'language'\n",
      " 'excellent' 'work' 'skill' 'knowledge']\n",
      "=========================\n"
     ]
    }
   ],
   "source": [
    "for y in range(2004, 2016):\n",
    "    print(\"Year : {}\".format(y))\n",
    "    df = job_trend[job_trend['Year'] == y]\n",
    "    apply_clustering(df['RequiredQual'])\n",
    "    print(\"=\" * 25)"
   ]
  },
  {
   "cell_type": "markdown",
   "metadata": {},
   "source": [
    "**Desired skills are mostly clustered in management and executive roles, IT software roles or accounting and langauge based skillset. This skills have considerably moved from accounting and management heavy roles to software/IT skills**"
   ]
  },
  {
   "cell_type": "markdown",
   "metadata": {},
   "source": [
    "## IT Job Classification"
   ]
  },
  {
   "cell_type": "markdown",
   "metadata": {},
   "source": [
    "### Classification"
   ]
  },
  {
   "cell_type": "code",
   "execution_count": 214,
   "metadata": {},
   "outputs": [
    {
     "name": "stdout",
     "output_type": "stream",
     "text": [
      "(14250,)\n",
      "(4751,)\n",
      "(14250,)\n",
      "(4751,)\n"
     ]
    }
   ],
   "source": [
    "# define X and y\n",
    "X = job_trend.jobpost + \" \" + job_trend.Company\n",
    "y = job.IT\n",
    "# split the new DataFrame into training and testing sets\n",
    "X_train, X_test, y_train, y_test = train_test_split(X, y, random_state=1)\n",
    "print(X_train.shape)\n",
    "print(X_test.shape)\n",
    "print(y_train.shape)\n",
    "print(y_test.shape)"
   ]
  },
  {
   "cell_type": "markdown",
   "metadata": {},
   "source": [
    "### Vectorization (count, tfidf) for both train & test"
   ]
  },
  {
   "cell_type": "code",
   "execution_count": 215,
   "metadata": {},
   "outputs": [],
   "source": [
    "#Train\n",
    "count_vect = CountVectorizer(analyzer='word', \n",
    "                             token_pattern=r'\\w{1,}', \n",
    "                             ngram_range=(1, 1 ), \n",
    "                             min_df=5, \n",
    "                             lowercase = True,\n",
    "                             encoding='latin-1' , \n",
    "                             max_features=1000)\n",
    "X_train_count = count_vect.fit_transform(X_train)\n",
    "\n",
    "tfidf_vect = TfidfVectorizer(analyzer='word', \n",
    "                             token_pattern=r'\\w{1,}', \n",
    "                             ngram_range=(1, 1 ), \n",
    "                             min_df=5, \n",
    "                             encoding='latin-1' , \n",
    "                             lowercase = True,\n",
    "                             max_features=1000)\n",
    "X_train_tfidf = tfidf_vect.fit_transform(X_train)\n",
    "\n",
    "#Test\n",
    "X_test_count = count_vect.transform(X_test)\n",
    "X_test_tfidf = tfidf_vect.transform(X_test)\n"
   ]
  },
  {
   "cell_type": "markdown",
   "metadata": {},
   "source": [
    "### Create user defined function for train Classification the models"
   ]
  },
  {
   "cell_type": "code",
   "execution_count": 216,
   "metadata": {},
   "outputs": [],
   "source": [
    "def train_model(classifier, feature_vector_train, label, feature_vector_valid,  valid_y, is_neural_net=False):\n",
    "    # fit the training dataset on the classifier\n",
    "    classifier.fit(feature_vector_train, label)\n",
    "    \n",
    "    # predict the labels on validation dataset\n",
    "    predictions = classifier.predict(feature_vector_valid)\n",
    "    \n",
    "    if is_neural_net:\n",
    "        predictions = predictions.argmax(axis=-1)\n",
    "        \n",
    "    print(metrics.classification_report(valid_y, predictions))\n",
    "    \n",
    "    \n",
    "    return metrics.accuracy_score(predictions, valid_y)"
   ]
  },
  {
   "cell_type": "markdown",
   "metadata": {},
   "source": [
    "### Building different models with different vectors"
   ]
  },
  {
   "cell_type": "code",
   "execution_count": 219,
   "metadata": {},
   "outputs": [
    {
     "name": "stdout",
     "output_type": "stream",
     "text": [
      "              precision    recall  f1-score   support\n",
      "\n",
      "       False       0.95      0.93      0.94      3854\n",
      "        True       0.73      0.80      0.76       897\n",
      "\n",
      "    accuracy                           0.91      4751\n",
      "   macro avg       0.84      0.86      0.85      4751\n",
      "weighted avg       0.91      0.91      0.91      4751\n",
      "\n",
      "NB  for Count Vectors:  0.9071774363291939\n"
     ]
    }
   ],
   "source": [
    "#Naive Bayes\n",
    "# Naive Bayes on Count Vectors and TF-IDF\n",
    "accuracy_L1 = train_model(naive_bayes.MultinomialNB(), X_train_tfidf, y_train, X_test_tfidf, y_test)\n",
    "print(\"NB  for Count Vectors: \", accuracy_L1)"
   ]
  },
  {
   "cell_type": "code",
   "execution_count": 220,
   "metadata": {},
   "outputs": [
    {
     "name": "stdout",
     "output_type": "stream",
     "text": [
      "              precision    recall  f1-score   support\n",
      "\n",
      "       False       0.97      0.89      0.93      3854\n",
      "        True       0.65      0.90      0.75       897\n",
      "\n",
      "    accuracy                           0.89      4751\n",
      "   macro avg       0.81      0.89      0.84      4751\n",
      "weighted avg       0.91      0.89      0.89      4751\n",
      "\n",
      "NB  for WordLevel TF-IDF:  0.888234055988213\n"
     ]
    }
   ],
   "source": [
    "# Naive Bayes on Word Level TF IDF Vectors\n",
    "accuracy_L1 = train_model(naive_bayes.MultinomialNB(), X_train_count, y_train, X_test_count, y_test)\n",
    "print(\"NB  for WordLevel TF-IDF: \", accuracy_L1)"
   ]
  },
  {
   "cell_type": "code",
   "execution_count": 223,
   "metadata": {},
   "outputs": [
    {
     "name": "stdout",
     "output_type": "stream",
     "text": [
      "              precision    recall  f1-score   support\n",
      "\n",
      "       False       0.95      0.97      0.96      3854\n",
      "        True       0.86      0.78      0.82       897\n",
      "\n",
      "    accuracy                           0.93      4751\n",
      "   macro avg       0.90      0.87      0.89      4751\n",
      "weighted avg       0.93      0.93      0.93      4751\n",
      "\n",
      "LR  for Count Vectors:  0.9336981688065671\n",
      "              precision    recall  f1-score   support\n",
      "\n",
      "       False       0.96      0.96      0.96      3854\n",
      "        True       0.82      0.82      0.82       897\n",
      "\n",
      "    accuracy                           0.93      4751\n",
      "   macro avg       0.89      0.89      0.89      4751\n",
      "weighted avg       0.93      0.93      0.93      4751\n",
      "\n",
      "LR  for WordLevel TF-IDF:  0.9328562407914124\n"
     ]
    },
    {
     "name": "stderr",
     "output_type": "stream",
     "text": [
      "C:\\Users\\anubh\\anaconda3\\lib\\site-packages\\sklearn\\linear_model\\_logistic.py:940: ConvergenceWarning: lbfgs failed to converge (status=1):\n",
      "STOP: TOTAL NO. of ITERATIONS REACHED LIMIT.\n",
      "\n",
      "Increase the number of iterations (max_iter) or scale the data as shown in:\n",
      "    https://scikit-learn.org/stable/modules/preprocessing.html\n",
      "Please also refer to the documentation for alternative solver options:\n",
      "    https://scikit-learn.org/stable/modules/linear_model.html#logistic-regression\n",
      "  extra_warning_msg=_LOGISTIC_SOLVER_CONVERGENCE_MSG)\n"
     ]
    }
   ],
   "source": [
    "#Logistic Regression\n",
    "# Logistic Regression on Count Vectors and TF-IDF\n",
    "accuracy_L1 = train_model(LogisticRegression(), X_train_tfidf, y_train, X_test_tfidf, y_test)\n",
    "print(\"LR  for Count Vectors: \", accuracy_L1)\n",
    "\n",
    "# Logistic Regression on Word Level TF IDF Vectors\n",
    "accuracy_L1 = train_model(LogisticRegression(), X_train_count, y_train, X_test_count, y_test)\n",
    "print(\"LR  for WordLevel TF-IDF: \", accuracy_L1)\n"
   ]
  },
  {
   "cell_type": "code",
   "execution_count": 224,
   "metadata": {},
   "outputs": [
    {
     "name": "stdout",
     "output_type": "stream",
     "text": [
      "              precision    recall  f1-score   support\n",
      "\n",
      "       False       0.96      0.97      0.96      3854\n",
      "        True       0.88      0.81      0.84       897\n",
      "\n",
      "    accuracy                           0.94      4751\n",
      "   macro avg       0.92      0.89      0.90      4751\n",
      "weighted avg       0.94      0.94      0.94      4751\n",
      "\n",
      "SVC  for Count Vectors:  0.9425384129656914\n",
      "              precision    recall  f1-score   support\n",
      "\n",
      "       False       0.96      0.95      0.96      3854\n",
      "        True       0.80      0.84      0.82       897\n",
      "\n",
      "    accuracy                           0.93      4751\n",
      "   macro avg       0.88      0.90      0.89      4751\n",
      "weighted avg       0.93      0.93      0.93      4751\n",
      "\n",
      "SVC  for WordLevel TF-IDF:  0.9294885287307935\n"
     ]
    },
    {
     "name": "stderr",
     "output_type": "stream",
     "text": [
      "C:\\Users\\anubh\\anaconda3\\lib\\site-packages\\sklearn\\svm\\_base.py:947: ConvergenceWarning: Liblinear failed to converge, increase the number of iterations.\n",
      "  \"the number of iterations.\", ConvergenceWarning)\n"
     ]
    }
   ],
   "source": [
    "#Linear SVC\n",
    "# Linear SVC on Count Vectors and TF-IDF\n",
    "accuracy_L1 = train_model(svm.LinearSVC(), X_train_tfidf, y_train, X_test_tfidf, y_test)\n",
    "print(\"SVC  for Count Vectors: \", accuracy_L1)\n",
    "\n",
    "# Linear SVC on Word Level TF IDF Vectors\n",
    "accuracy_L1 = train_model(svm.LinearSVC(), X_train_count, y_train, X_test_count, y_test)\n",
    "print(\"SVC  for WordLevel TF-IDF: \", accuracy_L1)"
   ]
  },
  {
   "cell_type": "markdown",
   "metadata": {},
   "source": [
    "## Similarity of Jobs"
   ]
  },
  {
   "cell_type": "markdown",
   "metadata": {},
   "source": [
    "### Word2Vec"
   ]
  },
  {
   "cell_type": "code",
   "execution_count": 226,
   "metadata": {},
   "outputs": [],
   "source": [
    "def AvgWord2VecRep(Text):\n",
    "\n",
    "    '''train my own Word2Vec model using our processed reviews text corpus and compute average word2vec for each review by averaging vectors of all words in that review'''\n",
    "     #Preparing our train text for gensim model \n",
    "    list_of_sentance = []\n",
    "    for sentance in Text:\n",
    "        list_of_sentance.append(sentance.split())\n",
    "\n",
    "    #Building Word2Vec Model using our own text corpus  \n",
    "    w2v_model=Word2Vec(list_of_sentance,min_count=4,size=100, workers=4)\n",
    "    w2v_words = list(w2v_model.wv.vocab)\n",
    "\n",
    "    #Averaging word vectors of a sentence\n",
    "    sent_vectors = []; # the avg-w2v for each sentence/review is stored in this list\n",
    "    for sent in tqdm(list_of_sentance): # for each review/sentence\n",
    "        sent_vec = np.zeros(100) # as word vectors are of zero length 100\n",
    "        cnt_words =0; # num of words with a valid vector in the sentence/review\n",
    "        for word in sent: # for each word in a review/sentence\n",
    "            if word in w2v_words:\n",
    "                vec = w2v_model.wv[word]\n",
    "                sent_vec += vec\n",
    "                cnt_words += 1\n",
    "        if cnt_words != 0:\n",
    "            sent_vec /= cnt_words\n",
    "        sent_vectors.append(sent_vec)\n",
    "    sent_vectors = np.array(sent_vectors)\n",
    "\n",
    "\n",
    "    return sent_vectors\n",
    "    "
   ]
  },
  {
   "cell_type": "code",
   "execution_count": 227,
   "metadata": {},
   "outputs": [
    {
     "name": "stderr",
     "output_type": "stream",
     "text": [
      "100%|███████████████████████████████████████████████████████████████████████████| 19001/19001 [01:39<00:00, 191.16it/s]\n"
     ]
    }
   ],
   "source": [
    "sent_vectors = AvgWord2VecRep(job_trend.jobpost)"
   ]
  },
  {
   "cell_type": "code",
   "execution_count": 269,
   "metadata": {},
   "outputs": [],
   "source": [
    "from sklearn.metrics.pairwise import cosine_similarity\n",
    "\n",
    "def find_similar_postings(job_idx):\n",
    "    similarity_vec = cosine_similarity(sent_vectors[job_idx].reshape(1,-1), sent_vectors)    \n",
    "    return similarity_vec, np.argsort(similarity_vec)[0][-6:-1]"
   ]
  },
  {
   "cell_type": "code",
   "execution_count": 282,
   "metadata": {},
   "outputs": [
    {
     "name": "stdout",
     "output_type": "stream",
     "text": [
      "CURRENT JOBPOST :  military institute job title teacher information technology position location yerevan armenia job description military institute looking teacher information technology required qualification university degree working experience least year knowledge window msoffice programming v basic remuneration dram application procedure send resume man_mas connect masis manukyan chief department information technology military institute shopron sr yerevan armenia additional information call candidate asked pas interview please clearly mention application letter learned job opportunity career center mention url website wwwcareercenteram thanks application deadline february place free posting job career related opportunity organization careercenteram website email u atmailbox\n",
      "TOP 5 SIMILAR JOB POSTS\n",
      "************************************************************************************************************************\n",
      "Index : 35\n",
      "Score : 0.9274957860235901\n",
      "Similar Jobpost :  cit ltd job title programmer position location yerevan armenia required qualification work experience least two year knowledge visual studio net remuneration depends skill previous experience application procedure send resume rosa karapetyan atrosak submit abelyan st yerevan rd floor additional information call shortlisted candidate asked pas test interview please clearly mention application letter learned job opportunity career center mention url website wwwcareercenteram thanks application deadline february place free posting job career related opportunity organization careercenteram website email u atmailbox\n",
      "Index : 103\n",
      "Score : 0.9244444043810797\n",
      "Similar Jobpost :  h economy job title chemist organic polymer project duration longterm position location yerevan armenia job description h economy seeking qualified candidate fill position chemist organic polymer job responsibility work member scientific team develop prepare membrane required qualification advanced degree chemistry knowledge armenian russian essential english language desirable remuneration competitive application procedure full resume reference sent tonevatech phone call please please clearly mention application letter learned job opportunity career center mention url website wwwcareercenteram thanks application deadline march start date immediate company information company available wwwheconomycom place free posting job career related opportunity organization careercenteram website email u atmailbox\n",
      "Index : 13803\n",
      "Score : 0.9088538073605825\n",
      "Similar Jobpost :  xgroup title baker location yerevan armenia job description xgroup looking experienced baker knowledge french baking technology job responsibility implement bakery production process bake french bakery product required qualification least year work experience relevant field knowledge french baking technology croissant french bun etc application procedure interested candidate kindly requested submit cv myasnikyan avenue yerevan email lusine please mention position applying subject line email additional information please call please clearly mention application letter learned job opportunity career center mention url website wwwcareercenteram thanks opening date may application deadline june company additional information company found wwwxgroupam additional note possibility employing contracted employee france place free posting job careerrelated opportunity available organization go wwwcareercenteram website follow post announcement link\n",
      "Index : 9752\n",
      "Score : 0.906712261314836\n",
      "Similar Jobpost :  cocacola hellenic bottling company armenia cjsc title graduate trainee pa & c function start date time june duration month permanent job opportunity location yerevan armenia job description graduate trainee responsible function related activity project implementation required qualification last year level undergraduate study student master program business pa & c related sphere competent pc user least microsoft office good knowledge english language application procedure interested candidate kindly requested submit cv azatutyan ave rd blind alley yerevan email cocacolajobsam please mention position applying subject line email additional information please call please clearly mention application letter learned job opportunity career center mention url website wwwcareercenteram thanks opening date may application deadline may place free posting job careerrelated opportunity available organization go wwwcareercenteram website follow post announcement link\n",
      "Index : 1094\n",
      "Score : 0.9066399324012921\n",
      "Similar Jobpost :  chemoincs international title water wastewater specialist start date time march location yerevan armenia job description looking water engineer experience assessing need water wastewater infrastructure required qualification minimum year professional experience bachelor master degree equivalent work experience relevant area fluent written spoken english language extensive experience conducting feasibility study experience design piloting project application procedure qualified applicant must submit following two document microsoft word format cover letter highlighting relevant experience current curriculum vita cv listing three reference contact information application sent tocaucasuswater phone call personal contact please subject line email please specify position title qualified candidate contacted please note receipt application way guarantee position please clearly mention application letter learned job opportunity career center mention url website wwwcareercenteram thanks opening date march application deadline march pm company additional information chemonics international inc please visit website wwwchemonicscom place free posting job careerrelated opportunity available organization go wwwcareercenteram website follow post announcement link\n"
     ]
    }
   ],
   "source": [
    "CURR_JOBPOST_IDX = 45 # different index could be entered to get top 5 similar jobposts\n",
    "print(\"CURRENT JOBPOST : \", job_trend.jobpost[CURR_JOBPOST_IDX])\n",
    "print(\"TOP 5 SIMILAR JOB POSTS\")\n",
    "print('*'*120)\n",
    "similarity_vec, idxs = find_similar_postings(CURR_JOBPOST_IDX)\n",
    "ordered_idxs = idxs[::-1]\n",
    "for idx in ordered_idxs:\n",
    "    print(\"Index : {}\".format(idx))\n",
    "    print(\"Score : {}\".format(similarity_vec[0][idx]))\n",
    "    print(\"Similar Jobpost : \", job_trend.jobpost[idx])"
   ]
  },
  {
   "cell_type": "code",
   "execution_count": null,
   "metadata": {},
   "outputs": [],
   "source": []
  }
 ],
 "metadata": {
  "kernelspec": {
   "display_name": "Python 3",
   "language": "python",
   "name": "python3"
  },
  "language_info": {
   "codemirror_mode": {
    "name": "ipython",
    "version": 3
   },
   "file_extension": ".py",
   "mimetype": "text/x-python",
   "name": "python",
   "nbconvert_exporter": "python",
   "pygments_lexer": "ipython3",
   "version": "3.7.6"
  }
 },
 "nbformat": 4,
 "nbformat_minor": 4
}
